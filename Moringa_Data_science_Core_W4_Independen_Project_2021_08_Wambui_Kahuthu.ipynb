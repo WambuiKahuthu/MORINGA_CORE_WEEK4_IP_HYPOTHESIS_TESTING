{
  "nbformat": 4,
  "nbformat_minor": 0,
  "metadata": {
    "colab": {
      "name": "Moringa_Data_science_Core_W4_Independen_Project_2021_08_Wambui_Kahuthu.ipynb",
      "provenance": [],
      "collapsed_sections": [],
      "authorship_tag": "ABX9TyOE+cHRQD375N4fb/t/Jsgz",
      "include_colab_link": true
    },
    "kernelspec": {
      "name": "python3",
      "display_name": "Python 3"
    },
    "language_info": {
      "name": "python"
    }
  },
  "cells": [
    {
      "cell_type": "markdown",
      "metadata": {
        "id": "view-in-github",
        "colab_type": "text"
      },
      "source": [
        "<a href=\"https://colab.research.google.com/github/WambuiKahuthu/MORINGA_CORE_WEEK4_IP_HYPOTHESIS_TESTING/blob/main/Moringa_Data_science_Core_W4_Independen_Project_2021_08_Wambui_Kahuthu.ipynb\" target=\"_parent\"><img src=\"https://colab.research.google.com/assets/colab-badge.svg\" alt=\"Open In Colab\"/></a>"
      ]
    },
    {
      "cell_type": "markdown",
      "metadata": {
        "id": "ETautjxr-Mni"
      },
      "source": [
        "# Hypothesis Testing"
      ]
    },
    {
      "cell_type": "markdown",
      "metadata": {
        "id": "VXhi2HLORto-"
      },
      "source": [
        "**Background of the study**  \n",
        "After a quick look at the dataset that contains data on the usage of Autolib's cars between 1st January 2018 and 19th June 2018, Autolib's manager claims that the average number of Bluecars taken from station with postal code 75015 is the same as the average number of Bluecars taken from station with postal code 75016 on the weekdays. This study seeks to establish whether this claim is true or not.\n",
        "\n",
        "**Hypothesis**  \n",
        "Null hypothesis: There is no difference between the average number of Bluecars taken from station with postal code 75015 and the average number of Bluecars taken from station with postal code 75016 on the weekdays   \n",
        "Alternative hypothesis: There is a difference between the average number of Bluecars taken from station with postal code 75015 and the average number of Bluecars taken from station with postal code 75016 on the weekdays\n",
        "\n",
        "*Keys*  \n",
        "$H_{0}$ = Null hypothesis  \n",
        "$H_{1}$ = Alternative hypothesis  \n",
        "$mu_{1}$ = Average number of Bluecars taken from postal code 75015 on the weekdays  \n",
        "$mu_{2}$ = Average number of Bluecars taken from postal code 75016 on the weekends  \n",
        "\n",
        "$H_{0}$: $mu_{1}$ = $mu_{2}$  \n",
        "$H_{1}$: $mu_{1}$ ≠ $mu_{2}$  \n",
        "\n",
        "**Process**  \n",
        "We will load the required dataset for the study, clean it, obtain sample units from the two postal codes, perform univariate analysis, then conduct a hypothesis test so as to determine whether we should reject or fail to reject the null hypothesis. \n"
      ]
    },
    {
      "cell_type": "markdown",
      "metadata": {
        "id": "rMbkCzdfQ35v"
      },
      "source": [
        "## Importing Our Libraries"
      ]
    },
    {
      "cell_type": "code",
      "metadata": {
        "id": "u3hksM-2Q1vn"
      },
      "source": [
        "# importing pandas\n",
        "import pandas as pd\n",
        "\n",
        "# importing numpy\n",
        "import numpy as np\n",
        "\n",
        "# importing matplotlib.pyplot\n",
        "import matplotlib.pyplot as plt\n",
        "\n",
        "# importing scipy.stats\n",
        "import scipy.stats as stats\n",
        "\n",
        "# importing seaborn\n",
        "import seaborn as sns"
      ],
      "execution_count": null,
      "outputs": []
    },
    {
      "cell_type": "markdown",
      "metadata": {
        "id": "9XWfyxBCQi8m"
      },
      "source": [
        "## Loading Our Dataset"
      ]
    },
    {
      "cell_type": "code",
      "metadata": {
        "id": "neY6mMbLQgfU"
      },
      "source": [
        "# Load csv dataset with the required data from given url 'http://bit.ly/DSCoreAutolibDataset'\n",
        "autolib = pd.read_csv('http://bit.ly/DSCoreAutolibDataset')"
      ],
      "execution_count": null,
      "outputs": []
    },
    {
      "cell_type": "markdown",
      "metadata": {
        "id": "KCBViZFbWG5w"
      },
      "source": [
        "## Reading the Dataset"
      ]
    },
    {
      "cell_type": "code",
      "metadata": {
        "colab": {
          "base_uri": "https://localhost:8080/",
          "height": 237
        },
        "id": "fB_YbaPAWUIv",
        "outputId": "9b9a7948-23da-4873-96c9-31115191cb67"
      },
      "source": [
        "# Preview the top 5 entries in our dataset\n",
        "autolib.head()"
      ],
      "execution_count": null,
      "outputs": [
        {
          "output_type": "execute_result",
          "data": {
            "text/html": [
              "<div>\n",
              "<style scoped>\n",
              "    .dataframe tbody tr th:only-of-type {\n",
              "        vertical-align: middle;\n",
              "    }\n",
              "\n",
              "    .dataframe tbody tr th {\n",
              "        vertical-align: top;\n",
              "    }\n",
              "\n",
              "    .dataframe thead th {\n",
              "        text-align: right;\n",
              "    }\n",
              "</style>\n",
              "<table border=\"1\" class=\"dataframe\">\n",
              "  <thead>\n",
              "    <tr style=\"text-align: right;\">\n",
              "      <th></th>\n",
              "      <th>Postal code</th>\n",
              "      <th>date</th>\n",
              "      <th>n_daily_data_points</th>\n",
              "      <th>dayOfWeek</th>\n",
              "      <th>day_type</th>\n",
              "      <th>BlueCars_taken_sum</th>\n",
              "      <th>BlueCars_returned_sum</th>\n",
              "      <th>Utilib_taken_sum</th>\n",
              "      <th>Utilib_returned_sum</th>\n",
              "      <th>Utilib_14_taken_sum</th>\n",
              "      <th>Utilib_14_returned_sum</th>\n",
              "      <th>Slots_freed_sum</th>\n",
              "      <th>Slots_taken_sum</th>\n",
              "    </tr>\n",
              "  </thead>\n",
              "  <tbody>\n",
              "    <tr>\n",
              "      <th>0</th>\n",
              "      <td>75001</td>\n",
              "      <td>1/1/2018</td>\n",
              "      <td>1440</td>\n",
              "      <td>0</td>\n",
              "      <td>weekday</td>\n",
              "      <td>110</td>\n",
              "      <td>103</td>\n",
              "      <td>3</td>\n",
              "      <td>2</td>\n",
              "      <td>10</td>\n",
              "      <td>9</td>\n",
              "      <td>22</td>\n",
              "      <td>20</td>\n",
              "    </tr>\n",
              "    <tr>\n",
              "      <th>1</th>\n",
              "      <td>75001</td>\n",
              "      <td>1/2/2018</td>\n",
              "      <td>1438</td>\n",
              "      <td>1</td>\n",
              "      <td>weekday</td>\n",
              "      <td>98</td>\n",
              "      <td>94</td>\n",
              "      <td>1</td>\n",
              "      <td>1</td>\n",
              "      <td>8</td>\n",
              "      <td>8</td>\n",
              "      <td>23</td>\n",
              "      <td>22</td>\n",
              "    </tr>\n",
              "    <tr>\n",
              "      <th>2</th>\n",
              "      <td>75001</td>\n",
              "      <td>1/3/2018</td>\n",
              "      <td>1439</td>\n",
              "      <td>2</td>\n",
              "      <td>weekday</td>\n",
              "      <td>138</td>\n",
              "      <td>139</td>\n",
              "      <td>0</td>\n",
              "      <td>0</td>\n",
              "      <td>2</td>\n",
              "      <td>2</td>\n",
              "      <td>27</td>\n",
              "      <td>27</td>\n",
              "    </tr>\n",
              "    <tr>\n",
              "      <th>3</th>\n",
              "      <td>75001</td>\n",
              "      <td>1/4/2018</td>\n",
              "      <td>1320</td>\n",
              "      <td>3</td>\n",
              "      <td>weekday</td>\n",
              "      <td>104</td>\n",
              "      <td>104</td>\n",
              "      <td>2</td>\n",
              "      <td>2</td>\n",
              "      <td>9</td>\n",
              "      <td>8</td>\n",
              "      <td>25</td>\n",
              "      <td>21</td>\n",
              "    </tr>\n",
              "    <tr>\n",
              "      <th>4</th>\n",
              "      <td>75001</td>\n",
              "      <td>1/5/2018</td>\n",
              "      <td>1440</td>\n",
              "      <td>4</td>\n",
              "      <td>weekday</td>\n",
              "      <td>114</td>\n",
              "      <td>117</td>\n",
              "      <td>3</td>\n",
              "      <td>3</td>\n",
              "      <td>6</td>\n",
              "      <td>6</td>\n",
              "      <td>18</td>\n",
              "      <td>20</td>\n",
              "    </tr>\n",
              "  </tbody>\n",
              "</table>\n",
              "</div>"
            ],
            "text/plain": [
              "   Postal code      date  ...  Slots_freed_sum  Slots_taken_sum\n",
              "0        75001  1/1/2018  ...               22               20\n",
              "1        75001  1/2/2018  ...               23               22\n",
              "2        75001  1/3/2018  ...               27               27\n",
              "3        75001  1/4/2018  ...               25               21\n",
              "4        75001  1/5/2018  ...               18               20\n",
              "\n",
              "[5 rows x 13 columns]"
            ]
          },
          "metadata": {
            "tags": []
          },
          "execution_count": 3
        }
      ]
    },
    {
      "cell_type": "code",
      "metadata": {
        "colab": {
          "base_uri": "https://localhost:8080/",
          "height": 237
        },
        "id": "NkkFDzlUWfpC",
        "outputId": "c7a5f646-c517-46a4-dce5-538d91858c70"
      },
      "source": [
        "# Preview the bottom 5 entries in our dataset\n",
        "autolib.tail()"
      ],
      "execution_count": null,
      "outputs": [
        {
          "output_type": "execute_result",
          "data": {
            "text/html": [
              "<div>\n",
              "<style scoped>\n",
              "    .dataframe tbody tr th:only-of-type {\n",
              "        vertical-align: middle;\n",
              "    }\n",
              "\n",
              "    .dataframe tbody tr th {\n",
              "        vertical-align: top;\n",
              "    }\n",
              "\n",
              "    .dataframe thead th {\n",
              "        text-align: right;\n",
              "    }\n",
              "</style>\n",
              "<table border=\"1\" class=\"dataframe\">\n",
              "  <thead>\n",
              "    <tr style=\"text-align: right;\">\n",
              "      <th></th>\n",
              "      <th>Postal code</th>\n",
              "      <th>date</th>\n",
              "      <th>n_daily_data_points</th>\n",
              "      <th>dayOfWeek</th>\n",
              "      <th>day_type</th>\n",
              "      <th>BlueCars_taken_sum</th>\n",
              "      <th>BlueCars_returned_sum</th>\n",
              "      <th>Utilib_taken_sum</th>\n",
              "      <th>Utilib_returned_sum</th>\n",
              "      <th>Utilib_14_taken_sum</th>\n",
              "      <th>Utilib_14_returned_sum</th>\n",
              "      <th>Slots_freed_sum</th>\n",
              "      <th>Slots_taken_sum</th>\n",
              "    </tr>\n",
              "  </thead>\n",
              "  <tbody>\n",
              "    <tr>\n",
              "      <th>16080</th>\n",
              "      <td>95880</td>\n",
              "      <td>6/15/2018</td>\n",
              "      <td>1440</td>\n",
              "      <td>4</td>\n",
              "      <td>weekday</td>\n",
              "      <td>15</td>\n",
              "      <td>10</td>\n",
              "      <td>0</td>\n",
              "      <td>0</td>\n",
              "      <td>2</td>\n",
              "      <td>3</td>\n",
              "      <td>0</td>\n",
              "      <td>0</td>\n",
              "    </tr>\n",
              "    <tr>\n",
              "      <th>16081</th>\n",
              "      <td>95880</td>\n",
              "      <td>6/16/2018</td>\n",
              "      <td>1440</td>\n",
              "      <td>5</td>\n",
              "      <td>weekend</td>\n",
              "      <td>19</td>\n",
              "      <td>19</td>\n",
              "      <td>0</td>\n",
              "      <td>0</td>\n",
              "      <td>2</td>\n",
              "      <td>1</td>\n",
              "      <td>0</td>\n",
              "      <td>0</td>\n",
              "    </tr>\n",
              "    <tr>\n",
              "      <th>16082</th>\n",
              "      <td>95880</td>\n",
              "      <td>6/17/2018</td>\n",
              "      <td>1440</td>\n",
              "      <td>6</td>\n",
              "      <td>weekend</td>\n",
              "      <td>33</td>\n",
              "      <td>35</td>\n",
              "      <td>1</td>\n",
              "      <td>1</td>\n",
              "      <td>0</td>\n",
              "      <td>0</td>\n",
              "      <td>0</td>\n",
              "      <td>0</td>\n",
              "    </tr>\n",
              "    <tr>\n",
              "      <th>16083</th>\n",
              "      <td>95880</td>\n",
              "      <td>6/18/2018</td>\n",
              "      <td>1440</td>\n",
              "      <td>0</td>\n",
              "      <td>weekday</td>\n",
              "      <td>11</td>\n",
              "      <td>14</td>\n",
              "      <td>3</td>\n",
              "      <td>5</td>\n",
              "      <td>2</td>\n",
              "      <td>2</td>\n",
              "      <td>0</td>\n",
              "      <td>0</td>\n",
              "    </tr>\n",
              "    <tr>\n",
              "      <th>16084</th>\n",
              "      <td>95880</td>\n",
              "      <td>6/19/2018</td>\n",
              "      <td>1370</td>\n",
              "      <td>1</td>\n",
              "      <td>weekday</td>\n",
              "      <td>2</td>\n",
              "      <td>2</td>\n",
              "      <td>2</td>\n",
              "      <td>1</td>\n",
              "      <td>0</td>\n",
              "      <td>0</td>\n",
              "      <td>0</td>\n",
              "      <td>0</td>\n",
              "    </tr>\n",
              "  </tbody>\n",
              "</table>\n",
              "</div>"
            ],
            "text/plain": [
              "       Postal code       date  ...  Slots_freed_sum  Slots_taken_sum\n",
              "16080        95880  6/15/2018  ...                0                0\n",
              "16081        95880  6/16/2018  ...                0                0\n",
              "16082        95880  6/17/2018  ...                0                0\n",
              "16083        95880  6/18/2018  ...                0                0\n",
              "16084        95880  6/19/2018  ...                0                0\n",
              "\n",
              "[5 rows x 13 columns]"
            ]
          },
          "metadata": {
            "tags": []
          },
          "execution_count": 4
        }
      ]
    },
    {
      "cell_type": "code",
      "metadata": {
        "colab": {
          "base_uri": "https://localhost:8080/"
        },
        "id": "PmXuvuFSm6o8",
        "outputId": "292fced2-ec7d-4d23-c554-66b25e2e01d3"
      },
      "source": [
        "# Check the general information about our dataset\n",
        "# The information includes the number of entries and columns, name of each column, number of non-null values in every column, the data type of each column, and the distribution of each data type\n",
        "autolib.info()"
      ],
      "execution_count": null,
      "outputs": [
        {
          "output_type": "stream",
          "text": [
            "<class 'pandas.core.frame.DataFrame'>\n",
            "RangeIndex: 16085 entries, 0 to 16084\n",
            "Data columns (total 13 columns):\n",
            " #   Column                  Non-Null Count  Dtype \n",
            "---  ------                  --------------  ----- \n",
            " 0   Postal code             16085 non-null  int64 \n",
            " 1   date                    16085 non-null  object\n",
            " 2   n_daily_data_points     16085 non-null  int64 \n",
            " 3   dayOfWeek               16085 non-null  int64 \n",
            " 4   day_type                16085 non-null  object\n",
            " 5   BlueCars_taken_sum      16085 non-null  int64 \n",
            " 6   BlueCars_returned_sum   16085 non-null  int64 \n",
            " 7   Utilib_taken_sum        16085 non-null  int64 \n",
            " 8   Utilib_returned_sum     16085 non-null  int64 \n",
            " 9   Utilib_14_taken_sum     16085 non-null  int64 \n",
            " 10  Utilib_14_returned_sum  16085 non-null  int64 \n",
            " 11  Slots_freed_sum         16085 non-null  int64 \n",
            " 12  Slots_taken_sum         16085 non-null  int64 \n",
            "dtypes: int64(11), object(2)\n",
            "memory usage: 1.6+ MB\n"
          ],
          "name": "stdout"
        }
      ]
    },
    {
      "cell_type": "code",
      "metadata": {
        "colab": {
          "base_uri": "https://localhost:8080/"
        },
        "id": "PVm1Na8CyMu8",
        "outputId": "2628b08b-021f-4e89-92b3-779438d23123"
      },
      "source": [
        "# Change \"Postal code\" and \"date\" columns' data types\n",
        "autolib['date'] = pd.to_datetime(autolib['date'])\n",
        "\n",
        "autolib['Postal code'] = autolib['Postal code'].astype(str)\n",
        "\n",
        "# Verify data type change\n",
        "autolib.dtypes"
      ],
      "execution_count": null,
      "outputs": [
        {
          "output_type": "execute_result",
          "data": {
            "text/plain": [
              "Postal code                       object\n",
              "date                      datetime64[ns]\n",
              "n_daily_data_points                int64\n",
              "dayOfWeek                          int64\n",
              "day_type                          object\n",
              "BlueCars_taken_sum                 int64\n",
              "BlueCars_returned_sum              int64\n",
              "Utilib_taken_sum                   int64\n",
              "Utilib_returned_sum                int64\n",
              "Utilib_14_taken_sum                int64\n",
              "Utilib_14_returned_sum             int64\n",
              "Slots_freed_sum                    int64\n",
              "Slots_taken_sum                    int64\n",
              "dtype: object"
            ]
          },
          "metadata": {
            "tags": []
          },
          "execution_count": 6
        }
      ]
    },
    {
      "cell_type": "markdown",
      "metadata": {
        "id": "EBsIQLn7c2hQ"
      },
      "source": [
        "## Cleaning the Data"
      ]
    },
    {
      "cell_type": "markdown",
      "metadata": {
        "id": "E1w10NTnc8FQ"
      },
      "source": [
        "### i. Validity"
      ]
    },
    {
      "cell_type": "code",
      "metadata": {
        "colab": {
          "base_uri": "https://localhost:8080/",
          "height": 411
        },
        "id": "1-5VpGZNc7OT",
        "outputId": "9ae8defd-1244-427a-c43e-e7950606817c"
      },
      "source": [
        "# Select the relevant columns for the analysis\n",
        "# Create dataframe with \"Postal code\", \"BlueCars_taken_sum\", and \"date\" columns (date column is retained to identify duplicates in data)\n",
        "# Select postal codes \"75015\" and \"75016\" in \"Postal code\" column and specify \"weekday\" as the day type\n",
        "postal_data = autolib[['Postal code', 'date','BlueCars_taken_sum']][((autolib['Postal code']=='75015')|(autolib['Postal code']=='75016'))&(autolib['day_type']=='weekday')].reset_index()\n",
        "\n",
        "# Drop 'index' column\n",
        "cols = [0] #specify the index of the column to be dropped\n",
        "postal_data.drop(postal_data.columns[cols],axis=1,inplace=True) #drop the column by the index\n",
        "\n",
        "# Rename BlueCars_taken_sum to bluecars_taken\n",
        "postal_data.rename(columns = {'BlueCars_taken_sum':'bluecars_taken'}, inplace = True)\n",
        "\n",
        "# Display the some records of the dataframe\n",
        "postal_data"
      ],
      "execution_count": null,
      "outputs": [
        {
          "output_type": "execute_result",
          "data": {
            "text/html": [
              "<div>\n",
              "<style scoped>\n",
              "    .dataframe tbody tr th:only-of-type {\n",
              "        vertical-align: middle;\n",
              "    }\n",
              "\n",
              "    .dataframe tbody tr th {\n",
              "        vertical-align: top;\n",
              "    }\n",
              "\n",
              "    .dataframe thead th {\n",
              "        text-align: right;\n",
              "    }\n",
              "</style>\n",
              "<table border=\"1\" class=\"dataframe\">\n",
              "  <thead>\n",
              "    <tr style=\"text-align: right;\">\n",
              "      <th></th>\n",
              "      <th>Postal code</th>\n",
              "      <th>date</th>\n",
              "      <th>bluecars_taken</th>\n",
              "    </tr>\n",
              "  </thead>\n",
              "  <tbody>\n",
              "    <tr>\n",
              "      <th>0</th>\n",
              "      <td>75015</td>\n",
              "      <td>2018-01-01</td>\n",
              "      <td>781</td>\n",
              "    </tr>\n",
              "    <tr>\n",
              "      <th>1</th>\n",
              "      <td>75015</td>\n",
              "      <td>2018-01-02</td>\n",
              "      <td>710</td>\n",
              "    </tr>\n",
              "    <tr>\n",
              "      <th>2</th>\n",
              "      <td>75015</td>\n",
              "      <td>2018-01-03</td>\n",
              "      <td>739</td>\n",
              "    </tr>\n",
              "    <tr>\n",
              "      <th>3</th>\n",
              "      <td>75015</td>\n",
              "      <td>2018-01-04</td>\n",
              "      <td>669</td>\n",
              "    </tr>\n",
              "    <tr>\n",
              "      <th>4</th>\n",
              "      <td>75015</td>\n",
              "      <td>2018-01-05</td>\n",
              "      <td>852</td>\n",
              "    </tr>\n",
              "    <tr>\n",
              "      <th>...</th>\n",
              "      <td>...</td>\n",
              "      <td>...</td>\n",
              "      <td>...</td>\n",
              "    </tr>\n",
              "    <tr>\n",
              "      <th>219</th>\n",
              "      <td>75016</td>\n",
              "      <td>2018-06-13</td>\n",
              "      <td>850</td>\n",
              "    </tr>\n",
              "    <tr>\n",
              "      <th>220</th>\n",
              "      <td>75016</td>\n",
              "      <td>2018-06-14</td>\n",
              "      <td>844</td>\n",
              "    </tr>\n",
              "    <tr>\n",
              "      <th>221</th>\n",
              "      <td>75016</td>\n",
              "      <td>2018-06-15</td>\n",
              "      <td>909</td>\n",
              "    </tr>\n",
              "    <tr>\n",
              "      <th>222</th>\n",
              "      <td>75016</td>\n",
              "      <td>2018-06-18</td>\n",
              "      <td>781</td>\n",
              "    </tr>\n",
              "    <tr>\n",
              "      <th>223</th>\n",
              "      <td>75016</td>\n",
              "      <td>2018-06-19</td>\n",
              "      <td>36</td>\n",
              "    </tr>\n",
              "  </tbody>\n",
              "</table>\n",
              "<p>224 rows × 3 columns</p>\n",
              "</div>"
            ],
            "text/plain": [
              "    Postal code       date  bluecars_taken\n",
              "0         75015 2018-01-01             781\n",
              "1         75015 2018-01-02             710\n",
              "2         75015 2018-01-03             739\n",
              "3         75015 2018-01-04             669\n",
              "4         75015 2018-01-05             852\n",
              "..          ...        ...             ...\n",
              "219       75016 2018-06-13             850\n",
              "220       75016 2018-06-14             844\n",
              "221       75016 2018-06-15             909\n",
              "222       75016 2018-06-18             781\n",
              "223       75016 2018-06-19              36\n",
              "\n",
              "[224 rows x 3 columns]"
            ]
          },
          "metadata": {
            "tags": []
          },
          "execution_count": 7
        }
      ]
    },
    {
      "cell_type": "markdown",
      "metadata": {
        "id": "y820ZzZYgirr"
      },
      "source": [
        "### ii. Uniformity"
      ]
    },
    {
      "cell_type": "code",
      "metadata": {
        "colab": {
          "base_uri": "https://localhost:8080/"
        },
        "id": "WOJfflOIhVJ6",
        "outputId": "7d4ea365-fadd-4477-a69b-c2127338e08f"
      },
      "source": [
        "#Standardize the column names by removing white spaces using strip()function, lowering the cases using lower() function, and replacing middle spaces with underscore \n",
        "postal_data.columns = postal_data.columns.str.strip().str.lower().str.replace(' ', '_')\n",
        "\n",
        "#display the standardized column names  \n",
        "postal_data.columns"
      ],
      "execution_count": null,
      "outputs": [
        {
          "output_type": "execute_result",
          "data": {
            "text/plain": [
              "Index(['postal_code', 'date', 'bluecars_taken'], dtype='object')"
            ]
          },
          "metadata": {
            "tags": []
          },
          "execution_count": 8
        }
      ]
    },
    {
      "cell_type": "markdown",
      "metadata": {
        "id": "1ZbUpHJndZ8h"
      },
      "source": [
        "### iii. Completeness"
      ]
    },
    {
      "cell_type": "code",
      "metadata": {
        "colab": {
          "base_uri": "https://localhost:8080/"
        },
        "id": "UoZummDZhUbI",
        "outputId": "878027a1-264d-46c6-9e44-eef04e7f49f0"
      },
      "source": [
        "# Check for duplicates in the dataset\n",
        "postal_data.duplicated().sum()"
      ],
      "execution_count": null,
      "outputs": [
        {
          "output_type": "execute_result",
          "data": {
            "text/plain": [
              "0"
            ]
          },
          "metadata": {
            "tags": []
          },
          "execution_count": 9
        }
      ]
    },
    {
      "cell_type": "markdown",
      "metadata": {
        "id": "ASPY-6Pkyvlk"
      },
      "source": [
        "There are no duplicates to be dropped\n"
      ]
    },
    {
      "cell_type": "markdown",
      "metadata": {
        "id": "EgAsAGZxhXLJ"
      },
      "source": [
        "### iv. Consistency"
      ]
    },
    {
      "cell_type": "code",
      "metadata": {
        "colab": {
          "base_uri": "https://localhost:8080/"
        },
        "id": "02lsToHmhegv",
        "outputId": "64549af8-0061-4c85-ef47-ac873c5d99b8"
      },
      "source": [
        "# Check for null values\n",
        "postal_data.isnull().sum().sum()"
      ],
      "execution_count": null,
      "outputs": [
        {
          "output_type": "execute_result",
          "data": {
            "text/plain": [
              "0"
            ]
          },
          "metadata": {
            "tags": []
          },
          "execution_count": 10
        }
      ]
    },
    {
      "cell_type": "markdown",
      "metadata": {
        "id": "ldZTnGDIy2wG"
      },
      "source": [
        "There are no null values to be dropped or replaced"
      ]
    },
    {
      "cell_type": "markdown",
      "metadata": {
        "id": "WlcllR0VgxRX"
      },
      "source": [
        "### v. Anomalies"
      ]
    },
    {
      "cell_type": "code",
      "metadata": {
        "id": "S_FInt4Igwpi"
      },
      "source": [
        "# Upon the investigation of the main dataset it was discovered that records on dates '2018-06-19' and '2018-02-24' were significantly lower than the usual data entries due to unidentified reasons. \n",
        "# As much as they show the accurate data on the car usage, on the specific days, they do not represent the usual car usage in the different postal codes.\n",
        "# If included in a random sample, they are likely to change the results or assumptions of the analysis; therefore, they will be dropped.\n",
        "\n",
        "# Drop rows with '2018-06-19' or '2018-02-24' in the 'date' column\n",
        "postal_data = postal_data.drop(postal_data[(postal_data.date=='2018-06-19')|(postal_data.date=='2018-02-24')].index)"
      ],
      "execution_count": null,
      "outputs": []
    },
    {
      "cell_type": "markdown",
      "metadata": {
        "id": "tXRVMZRyoyom"
      },
      "source": [
        "### v. Outliers"
      ]
    },
    {
      "cell_type": "markdown",
      "metadata": {
        "id": "fMOMZMc0SRfe"
      },
      "source": [
        "Instead of finding outliers within the general dataframe, we will divide the dataframe per postal code and find outliers within the different subsets"
      ]
    },
    {
      "cell_type": "code",
      "metadata": {
        "colab": {
          "base_uri": "https://localhost:8080/",
          "height": 288
        },
        "id": "92-STry6Szu7",
        "outputId": "7931097a-bcd7-4d66-e46a-debdc451607e"
      },
      "source": [
        "# Create a dataset with 75015's postal code data\n",
        "post1 =  postal_data[['postal_code', 'bluecars_taken']][(postal_data['postal_code']=='75015')]\n",
        "\n",
        "# Plot a boxplot to identify outliers\n",
        "post1.boxplot(column=['bluecars_taken'], grid=False)\n",
        "\n",
        "# Giving the box plot a title\n",
        "plt.title('Distribution of Bluecars Taken on Weekdays From Postal Code 75015', fontsize=15, y=1.015)\n",
        "# labelling the y axis\n",
        "plt.ylabel('Number or Bluecars Taken', fontsize=14, labelpad=15)\n",
        "# displaying the histogram\n",
        "plt.show()"
      ],
      "execution_count": null,
      "outputs": [
        {
          "output_type": "display_data",
          "data": {
            "image/png": "[encoded data removed]",
            "text/plain": [
              "<Figure size 432x288 with 1 Axes>"
            ]
          },
          "metadata": {
            "tags": [],
            "needs_background": "light"
          }
        }
      ]
    },
    {
      "cell_type": "markdown",
      "metadata": {
        "id": "D4GszqEHizEM"
      },
      "source": [
        "From the boxplot, there are no outliers in postal code 75015 data."
      ]
    },
    {
      "cell_type": "code",
      "metadata": {
        "colab": {
          "base_uri": "https://localhost:8080/",
          "height": 288
        },
        "id": "-gXRRF1WVqQ3",
        "outputId": "b9c494d0-c1f9-43ad-a396-eccaeb7a7c90"
      },
      "source": [
        "# Create a dataframe with 75016's postal code data\n",
        "post2 =  postal_data[['postal_code', 'bluecars_taken']][(postal_data['postal_code']=='75016')]\n",
        "\n",
        "# Plot a boxplot to identify outliers\n",
        "post2.boxplot(column=['bluecars_taken'], grid=False)\n",
        "\n",
        "# Giving the box plot a title\n",
        "plt.title('Distribution of Bluecars Taken on Weekdays From Postal Code 75016', fontsize=15, y=1.015)\n",
        "# labelling the y axis\n",
        "plt.ylabel('Number or Bluecars Taken', fontsize=14, labelpad=15)\n",
        "# displaying the histogram\n",
        "plt.show()"
      ],
      "execution_count": null,
      "outputs": [
        {
          "output_type": "display_data",
          "data": {
            "image/png": "[encoded data removed]",
            "text/plain": [
              "<Figure size 432x288 with 1 Axes>"
            ]
          },
          "metadata": {
            "tags": [],
            "needs_background": "light"
          }
        }
      ]
    },
    {
      "cell_type": "markdown",
      "metadata": {
        "id": "X_8herV1ez8t"
      },
      "source": [
        "There is no justifiable reason to remove the outliers as they accurately reflect the usage of cars in the different postal codes; therefore, we will keep the outliers."
      ]
    },
    {
      "cell_type": "code",
      "metadata": {
        "colab": {
          "base_uri": "https://localhost:8080/"
        },
        "id": "dhjYnxy33euZ",
        "outputId": "ee595fb4-9dc0-46e0-a518-d1c276a395ae"
      },
      "source": [
        "# View number of records of the cleaned dataset\n",
        "postal_data.shape"
      ],
      "execution_count": null,
      "outputs": [
        {
          "output_type": "execute_result",
          "data": {
            "text/plain": [
              "(222, 3)"
            ]
          },
          "metadata": {
            "tags": []
          },
          "execution_count": 14
        }
      ]
    },
    {
      "cell_type": "markdown",
      "metadata": {
        "id": "NMfrYvuJ2Dmf"
      },
      "source": [
        "## Exporting the Cleaned Dataset "
      ]
    },
    {
      "cell_type": "code",
      "metadata": {
        "id": "GK0cLfm92CbI"
      },
      "source": [
        "# Exporting the cleaned dataset as a csv file\n",
        "postal_data.to_csv('postal_data_75015_76016.csv')"
      ],
      "execution_count": null,
      "outputs": []
    },
    {
      "cell_type": "markdown",
      "metadata": {
        "id": "pzGiQouG_HRM"
      },
      "source": [
        "## Sampling"
      ]
    },
    {
      "cell_type": "code",
      "metadata": {
        "colab": {
          "base_uri": "https://localhost:8080/",
          "height": 464
        },
        "id": "hTjMKdyU_GRM",
        "outputId": "0e4b8191-b824-410a-ac36-881cdf8e8470"
      },
      "source": [
        "# Create a stratified random sample by grouping the dataset by postal code, then extracting sample units from each group\n",
        "# The sample size is calculated using the Yamane formula with 0.05 as the margin of error, and 95% as the confidence level \n",
        "postal_sample = postal_data.groupby('postal_code', group_keys=False).apply(lambda x : x.sample(replace='False', frac=((222/(1+222*(0.05**2)))/222)))\n",
        "\n",
        "# Print the number of sample units from each postal code\n",
        "print(postal_sample['postal_code'].value_counts())\n",
        "\n",
        "# Display some of the sample's data \n",
        "postal_sample"
      ],
      "execution_count": null,
      "outputs": [
        {
          "output_type": "stream",
          "text": [
            "75016    71\n",
            "75015    71\n",
            "Name: postal_code, dtype: int64\n"
          ],
          "name": "stdout"
        },
        {
          "output_type": "execute_result",
          "data": {
            "text/html": [
              "<div>\n",
              "<style scoped>\n",
              "    .dataframe tbody tr th:only-of-type {\n",
              "        vertical-align: middle;\n",
              "    }\n",
              "\n",
              "    .dataframe tbody tr th {\n",
              "        vertical-align: top;\n",
              "    }\n",
              "\n",
              "    .dataframe thead th {\n",
              "        text-align: right;\n",
              "    }\n",
              "</style>\n",
              "<table border=\"1\" class=\"dataframe\">\n",
              "  <thead>\n",
              "    <tr style=\"text-align: right;\">\n",
              "      <th></th>\n",
              "      <th>postal_code</th>\n",
              "      <th>date</th>\n",
              "      <th>bluecars_taken</th>\n",
              "    </tr>\n",
              "  </thead>\n",
              "  <tbody>\n",
              "    <tr>\n",
              "      <th>69</th>\n",
              "      <td>75015</td>\n",
              "      <td>2018-04-10</td>\n",
              "      <td>887</td>\n",
              "    </tr>\n",
              "    <tr>\n",
              "      <th>19</th>\n",
              "      <td>75015</td>\n",
              "      <td>2018-01-26</td>\n",
              "      <td>963</td>\n",
              "    </tr>\n",
              "    <tr>\n",
              "      <th>14</th>\n",
              "      <td>75015</td>\n",
              "      <td>2018-01-19</td>\n",
              "      <td>950</td>\n",
              "    </tr>\n",
              "    <tr>\n",
              "      <th>27</th>\n",
              "      <td>75015</td>\n",
              "      <td>2018-02-07</td>\n",
              "      <td>625</td>\n",
              "    </tr>\n",
              "    <tr>\n",
              "      <th>13</th>\n",
              "      <td>75015</td>\n",
              "      <td>2018-01-18</td>\n",
              "      <td>831</td>\n",
              "    </tr>\n",
              "    <tr>\n",
              "      <th>...</th>\n",
              "      <td>...</td>\n",
              "      <td>...</td>\n",
              "      <td>...</td>\n",
              "    </tr>\n",
              "    <tr>\n",
              "      <th>125</th>\n",
              "      <td>75016</td>\n",
              "      <td>2018-01-18</td>\n",
              "      <td>728</td>\n",
              "    </tr>\n",
              "    <tr>\n",
              "      <th>142</th>\n",
              "      <td>75016</td>\n",
              "      <td>2018-02-12</td>\n",
              "      <td>665</td>\n",
              "    </tr>\n",
              "    <tr>\n",
              "      <th>112</th>\n",
              "      <td>75016</td>\n",
              "      <td>2018-01-01</td>\n",
              "      <td>693</td>\n",
              "    </tr>\n",
              "    <tr>\n",
              "      <th>120</th>\n",
              "      <td>75016</td>\n",
              "      <td>2018-01-11</td>\n",
              "      <td>715</td>\n",
              "    </tr>\n",
              "    <tr>\n",
              "      <th>120</th>\n",
              "      <td>75016</td>\n",
              "      <td>2018-01-11</td>\n",
              "      <td>715</td>\n",
              "    </tr>\n",
              "  </tbody>\n",
              "</table>\n",
              "<p>142 rows × 3 columns</p>\n",
              "</div>"
            ],
            "text/plain": [
              "    postal_code       date  bluecars_taken\n",
              "69        75015 2018-04-10             887\n",
              "19        75015 2018-01-26             963\n",
              "14        75015 2018-01-19             950\n",
              "27        75015 2018-02-07             625\n",
              "13        75015 2018-01-18             831\n",
              "..          ...        ...             ...\n",
              "125       75016 2018-01-18             728\n",
              "142       75016 2018-02-12             665\n",
              "112       75016 2018-01-01             693\n",
              "120       75016 2018-01-11             715\n",
              "120       75016 2018-01-11             715\n",
              "\n",
              "[142 rows x 3 columns]"
            ]
          },
          "metadata": {
            "tags": []
          },
          "execution_count": 16
        }
      ]
    },
    {
      "cell_type": "code",
      "metadata": {
        "id": "cnuO6BEQ5_3l"
      },
      "source": [
        "# Exporting the sample dataset as a csv file\n",
        "postal_sample.to_csv('postal_sample_75015_75016.csv')"
      ],
      "execution_count": null,
      "outputs": []
    },
    {
      "cell_type": "markdown",
      "metadata": {
        "id": "eYrWFuiCfuww"
      },
      "source": [
        "## Univariate Analysis"
      ]
    },
    {
      "cell_type": "markdown",
      "metadata": {
        "id": "X8Shsxvrvb6w"
      },
      "source": [
        "For us to conduct univariate analysis that is meaningful to our objective, we are required to split the sample data by the postal code in order to analyse each group independently. The univariate analysis will make us understand our sample data better."
      ]
    },
    {
      "cell_type": "code",
      "metadata": {
        "id": "G0j1pvvRweVI"
      },
      "source": [
        "# Creating a subset with 75015's postal code sample data\n",
        "post1_sample =  postal_sample[['postal_code', 'bluecars_taken']][(postal_sample['postal_code']=='75015')]\n",
        "\n",
        "# Creating a subset with 75016's postal code sample data\n",
        "post2_sample =  postal_sample[['postal_code', 'bluecars_taken']][(postal_sample['postal_code']=='75016')]"
      ],
      "execution_count": null,
      "outputs": []
    },
    {
      "cell_type": "markdown",
      "metadata": {
        "id": "GDwOSfpj3zZX"
      },
      "source": [
        "### i. Measures of central tendancy"
      ]
    },
    {
      "cell_type": "markdown",
      "metadata": {
        "id": "HDq3Qyeo38yX"
      },
      "source": [
        "#### a. Postal code 75015 "
      ]
    },
    {
      "cell_type": "markdown",
      "metadata": {
        "id": "r8EyQLuH5RpW"
      },
      "source": [
        "Mean"
      ]
    },
    {
      "cell_type": "code",
      "metadata": {
        "colab": {
          "base_uri": "https://localhost:8080/"
        },
        "id": "1igzinaC5RKb",
        "outputId": "a6c9c31a-34d3-4404-efc5-6e4a85821e02"
      },
      "source": [
        "post1_sample['bluecars_taken'].mean()"
      ],
      "execution_count": null,
      "outputs": [
        {
          "output_type": "execute_result",
          "data": {
            "text/plain": [
              "837.6478873239437"
            ]
          },
          "metadata": {
            "tags": []
          },
          "execution_count": 19
        }
      ]
    },
    {
      "cell_type": "markdown",
      "metadata": {
        "id": "8nrqSSDA5Ymz"
      },
      "source": [
        "Median"
      ]
    },
    {
      "cell_type": "code",
      "metadata": {
        "colab": {
          "base_uri": "https://localhost:8080/"
        },
        "id": "jDzsKVam5axv",
        "outputId": "b9ace800-29cb-4e1b-aa66-17d64ffd7e49"
      },
      "source": [
        "post1_sample['bluecars_taken'].median()"
      ],
      "execution_count": null,
      "outputs": [
        {
          "output_type": "execute_result",
          "data": {
            "text/plain": [
              "839.0"
            ]
          },
          "metadata": {
            "tags": []
          },
          "execution_count": 20
        }
      ]
    },
    {
      "cell_type": "markdown",
      "metadata": {
        "id": "j3-sX-Tc5Tpu"
      },
      "source": [
        "Mode"
      ]
    },
    {
      "cell_type": "code",
      "metadata": {
        "colab": {
          "base_uri": "https://localhost:8080/"
        },
        "id": "J-rTxg3NfuNJ",
        "outputId": "4e50e0b1-95d8-4d28-f404-3f1d53baa49e"
      },
      "source": [
        "post1_sample['bluecars_taken'].mode()"
      ],
      "execution_count": null,
      "outputs": [
        {
          "output_type": "execute_result",
          "data": {
            "text/plain": [
              "0    819\n",
              "dtype: int64"
            ]
          },
          "metadata": {
            "tags": []
          },
          "execution_count": 21
        }
      ]
    },
    {
      "cell_type": "markdown",
      "metadata": {
        "id": "PrjTXgBF4RFE"
      },
      "source": [
        "#### b. Postal code 75016"
      ]
    },
    {
      "cell_type": "markdown",
      "metadata": {
        "id": "dvqiN6FY6S7x"
      },
      "source": [
        "Mean"
      ]
    },
    {
      "cell_type": "code",
      "metadata": {
        "colab": {
          "base_uri": "https://localhost:8080/"
        },
        "id": "fPHiwDTd6eKO",
        "outputId": "7738ba72-4229-446b-dbe6-db91acf3b48c"
      },
      "source": [
        "post2_sample['bluecars_taken'].mean()"
      ],
      "execution_count": null,
      "outputs": [
        {
          "output_type": "execute_result",
          "data": {
            "text/plain": [
              "766.0845070422536"
            ]
          },
          "metadata": {
            "tags": []
          },
          "execution_count": 22
        }
      ]
    },
    {
      "cell_type": "markdown",
      "metadata": {
        "id": "q3f_bof86fY4"
      },
      "source": [
        "Median"
      ]
    },
    {
      "cell_type": "code",
      "metadata": {
        "colab": {
          "base_uri": "https://localhost:8080/"
        },
        "id": "dOG5JHRe6dYc",
        "outputId": "a2931361-26b0-4413-88ab-50d540647f75"
      },
      "source": [
        "post2_sample['bluecars_taken'].median()"
      ],
      "execution_count": null,
      "outputs": [
        {
          "output_type": "execute_result",
          "data": {
            "text/plain": [
              "768.0"
            ]
          },
          "metadata": {
            "tags": []
          },
          "execution_count": 23
        }
      ]
    },
    {
      "cell_type": "markdown",
      "metadata": {
        "id": "yKMxrqv-6iPa"
      },
      "source": [
        "Mode"
      ]
    },
    {
      "cell_type": "code",
      "metadata": {
        "colab": {
          "base_uri": "https://localhost:8080/"
        },
        "id": "4Hwq4But6it4",
        "outputId": "faec6f4d-e856-4469-8315-8a926444cbe1"
      },
      "source": [
        "post2_sample['bluecars_taken'].mode()"
      ],
      "execution_count": null,
      "outputs": [
        {
          "output_type": "execute_result",
          "data": {
            "text/plain": [
              "0    731\n",
              "1    741\n",
              "dtype: int64"
            ]
          },
          "metadata": {
            "tags": []
          },
          "execution_count": 24
        }
      ]
    },
    {
      "cell_type": "markdown",
      "metadata": {
        "id": "NsrgkNMo4ZVw"
      },
      "source": [
        "### ii. Measures of dispersion"
      ]
    },
    {
      "cell_type": "markdown",
      "metadata": {
        "id": "u0h7bg5M4mEd"
      },
      "source": [
        "#### a. Postal code 75015"
      ]
    },
    {
      "cell_type": "markdown",
      "metadata": {
        "id": "jIu7Lf9l_9t2"
      },
      "source": [
        "Variance"
      ]
    },
    {
      "cell_type": "code",
      "metadata": {
        "colab": {
          "base_uri": "https://localhost:8080/"
        },
        "id": "uVv9OJby_-Qx",
        "outputId": "997b9ec9-1b15-4a81-a3be-84d305f7aa7d"
      },
      "source": [
        "post1_sample['bluecars_taken'].var()"
      ],
      "execution_count": null,
      "outputs": [
        {
          "output_type": "execute_result",
          "data": {
            "text/plain": [
              "10149.65995975855"
            ]
          },
          "metadata": {
            "tags": []
          },
          "execution_count": 25
        }
      ]
    },
    {
      "cell_type": "markdown",
      "metadata": {
        "id": "5YE1rEdk__Ig"
      },
      "source": [
        "Standard deviation"
      ]
    },
    {
      "cell_type": "code",
      "metadata": {
        "colab": {
          "base_uri": "https://localhost:8080/"
        },
        "id": "OJA_0qFPABkk",
        "outputId": "57b43390-f66b-4877-c941-c9192cd32177"
      },
      "source": [
        "post1_sample['bluecars_taken'].std()"
      ],
      "execution_count": null,
      "outputs": [
        {
          "output_type": "execute_result",
          "data": {
            "text/plain": [
              "100.74552079253226"
            ]
          },
          "metadata": {
            "tags": []
          },
          "execution_count": 26
        }
      ]
    },
    {
      "cell_type": "markdown",
      "metadata": {
        "id": "uPHLx1efACAl"
      },
      "source": [
        "Range"
      ]
    },
    {
      "cell_type": "code",
      "metadata": {
        "colab": {
          "base_uri": "https://localhost:8080/"
        },
        "id": "YIwM9uZxACq3",
        "outputId": "a26fccd3-58b8-4c97-aa57-d09c75542332"
      },
      "source": [
        "max_taken = post1_sample['bluecars_taken'].max()\n",
        "min_taken = post1_sample['bluecars_taken'].min()\n",
        "\n",
        "max_taken - min_taken"
      ],
      "execution_count": null,
      "outputs": [
        {
          "output_type": "execute_result",
          "data": {
            "text/plain": [
              "479"
            ]
          },
          "metadata": {
            "tags": []
          },
          "execution_count": 27
        }
      ]
    },
    {
      "cell_type": "markdown",
      "metadata": {
        "id": "fTwb2v5jADCx"
      },
      "source": [
        "Quartiles"
      ]
    },
    {
      "cell_type": "code",
      "metadata": {
        "colab": {
          "base_uri": "https://localhost:8080/"
        },
        "id": "DyOEzZfDAD0B",
        "outputId": "fc3345bd-dc8b-43bc-9b4e-180a7380dc9c"
      },
      "source": [
        "# Calculating the quantiles \n",
        "post1_sample['bluecars_taken'].quantile([0.25,0.5,0.75])"
      ],
      "execution_count": null,
      "outputs": [
        {
          "output_type": "execute_result",
          "data": {
            "text/plain": [
              "0.25    777.0\n",
              "0.50    839.0\n",
              "0.75    895.0\n",
              "Name: bluecars_taken, dtype: float64"
            ]
          },
          "metadata": {
            "tags": []
          },
          "execution_count": 28
        }
      ]
    },
    {
      "cell_type": "markdown",
      "metadata": {
        "id": "D-s7eehNEOhL"
      },
      "source": [
        "Interquartile range"
      ]
    },
    {
      "cell_type": "code",
      "metadata": {
        "colab": {
          "base_uri": "https://localhost:8080/"
        },
        "id": "gtxtnjR-EO3j",
        "outputId": "88bbdcd7-cf0a-47b4-eec2-3fd50039642a"
      },
      "source": [
        "# Calculating the interquatile range\n",
        "Q3 = post1_sample['bluecars_taken'].quantile(0.75)\n",
        "Q1 = post1_sample['bluecars_taken'].quantile(0.25)\n",
        "\n",
        "Q3-Q1"
      ],
      "execution_count": null,
      "outputs": [
        {
          "output_type": "execute_result",
          "data": {
            "text/plain": [
              "118.0"
            ]
          },
          "metadata": {
            "tags": []
          },
          "execution_count": 29
        }
      ]
    },
    {
      "cell_type": "markdown",
      "metadata": {
        "id": "4cNVr1qlAggN"
      },
      "source": [
        "Skewness"
      ]
    },
    {
      "cell_type": "code",
      "metadata": {
        "colab": {
          "base_uri": "https://localhost:8080/"
        },
        "id": "prWjlDipAhdZ",
        "outputId": "a3a9d29f-3d0c-44ac-d054-98961fecb83e"
      },
      "source": [
        "post1_sample['bluecars_taken'].skew()"
      ],
      "execution_count": null,
      "outputs": [
        {
          "output_type": "execute_result",
          "data": {
            "text/plain": [
              "0.028824688874674664"
            ]
          },
          "metadata": {
            "tags": []
          },
          "execution_count": 30
        }
      ]
    },
    {
      "cell_type": "markdown",
      "metadata": {
        "id": "61Eq_Mz-Amn8"
      },
      "source": [
        "Kurtosis"
      ]
    },
    {
      "cell_type": "code",
      "metadata": {
        "colab": {
          "base_uri": "https://localhost:8080/"
        },
        "id": "lUJ1Yz3xAnCr",
        "outputId": "557420df-8ac2-4093-fad8-106cc3248d24"
      },
      "source": [
        "post1_sample['bluecars_taken'].kurt()"
      ],
      "execution_count": null,
      "outputs": [
        {
          "output_type": "execute_result",
          "data": {
            "text/plain": [
              "0.04224511613248261"
            ]
          },
          "metadata": {
            "tags": []
          },
          "execution_count": 31
        }
      ]
    },
    {
      "cell_type": "markdown",
      "metadata": {
        "id": "fscvCh224uoV"
      },
      "source": [
        "#### b. Postal code 75016"
      ]
    },
    {
      "cell_type": "markdown",
      "metadata": {
        "id": "OMudsAlfA9mm"
      },
      "source": [
        "Variance"
      ]
    },
    {
      "cell_type": "code",
      "metadata": {
        "colab": {
          "base_uri": "https://localhost:8080/"
        },
        "id": "KOQpQog2A9m9",
        "outputId": "2e3f0942-e985-4e3b-e47f-a9f679686fde"
      },
      "source": [
        "post2_sample['bluecars_taken'].var()"
      ],
      "execution_count": null,
      "outputs": [
        {
          "output_type": "execute_result",
          "data": {
            "text/plain": [
              "5583.164185110663"
            ]
          },
          "metadata": {
            "tags": []
          },
          "execution_count": 32
        }
      ]
    },
    {
      "cell_type": "markdown",
      "metadata": {
        "id": "ToACWb_WA9m-"
      },
      "source": [
        "Standard deviation"
      ]
    },
    {
      "cell_type": "code",
      "metadata": {
        "colab": {
          "base_uri": "https://localhost:8080/"
        },
        "id": "M9I8l8cyA9m-",
        "outputId": "78c8c549-20e9-4efa-fc07-d5405ae674d3"
      },
      "source": [
        "post2_sample['bluecars_taken'].std()"
      ],
      "execution_count": null,
      "outputs": [
        {
          "output_type": "execute_result",
          "data": {
            "text/plain": [
              "74.72057404162967"
            ]
          },
          "metadata": {
            "tags": []
          },
          "execution_count": 33
        }
      ]
    },
    {
      "cell_type": "markdown",
      "metadata": {
        "id": "UXbk_2AXA9m-"
      },
      "source": [
        "Range"
      ]
    },
    {
      "cell_type": "code",
      "metadata": {
        "colab": {
          "base_uri": "https://localhost:8080/"
        },
        "id": "k7nwUoxWA9m_",
        "outputId": "3ac1c4ac-235f-4ffa-e97a-4acdb285fbd4"
      },
      "source": [
        "max_taken = post2_sample['bluecars_taken'].max()\n",
        "min_taken = post2_sample['bluecars_taken'].min()\n",
        "\n",
        "max_taken - min_taken"
      ],
      "execution_count": null,
      "outputs": [
        {
          "output_type": "execute_result",
          "data": {
            "text/plain": [
              "334"
            ]
          },
          "metadata": {
            "tags": []
          },
          "execution_count": 34
        }
      ]
    },
    {
      "cell_type": "markdown",
      "metadata": {
        "id": "pbu3GqvgA9m_"
      },
      "source": [
        "Quartiles"
      ]
    },
    {
      "cell_type": "code",
      "metadata": {
        "colab": {
          "base_uri": "https://localhost:8080/"
        },
        "id": "NecE_V8JA9m_",
        "outputId": "b2fa1a99-98ab-4676-c29e-503ffcf461ee"
      },
      "source": [
        "# Calculating the quantiles \n",
        "post2_sample['bluecars_taken'].quantile([0.25,0.5,0.75])"
      ],
      "execution_count": null,
      "outputs": [
        {
          "output_type": "execute_result",
          "data": {
            "text/plain": [
              "0.25    724.5\n",
              "0.50    768.0\n",
              "0.75    806.0\n",
              "Name: bluecars_taken, dtype: float64"
            ]
          },
          "metadata": {
            "tags": []
          },
          "execution_count": 35
        }
      ]
    },
    {
      "cell_type": "markdown",
      "metadata": {
        "id": "AoCYPrLbFSRF"
      },
      "source": [
        "Interquartile range"
      ]
    },
    {
      "cell_type": "code",
      "metadata": {
        "colab": {
          "base_uri": "https://localhost:8080/"
        },
        "id": "_1t96G-TFV27",
        "outputId": "44c0a223-470c-425e-9e5b-dc99b348cab1"
      },
      "source": [
        "# Calculating the interquatile range\n",
        "Q3 = post2_sample['bluecars_taken'].quantile(0.75)\n",
        "Q1 = post2_sample['bluecars_taken'].quantile(0.25)\n",
        "\n",
        "Q3-Q1"
      ],
      "execution_count": null,
      "outputs": [
        {
          "output_type": "execute_result",
          "data": {
            "text/plain": [
              "81.5"
            ]
          },
          "metadata": {
            "tags": []
          },
          "execution_count": 36
        }
      ]
    },
    {
      "cell_type": "markdown",
      "metadata": {
        "id": "bqG59Dm3A9m_"
      },
      "source": [
        "Skewness"
      ]
    },
    {
      "cell_type": "code",
      "metadata": {
        "colab": {
          "base_uri": "https://localhost:8080/"
        },
        "id": "I2X0mXVwA9nA",
        "outputId": "9f710c60-ac0a-4f78-e970-8de07208ec06"
      },
      "source": [
        "post2_sample['bluecars_taken'].skew()"
      ],
      "execution_count": null,
      "outputs": [
        {
          "output_type": "execute_result",
          "data": {
            "text/plain": [
              "-0.30910205589341294"
            ]
          },
          "metadata": {
            "tags": []
          },
          "execution_count": 37
        }
      ]
    },
    {
      "cell_type": "markdown",
      "metadata": {
        "id": "J182uAKmA9nA"
      },
      "source": [
        "Kurtosis"
      ]
    },
    {
      "cell_type": "code",
      "metadata": {
        "colab": {
          "base_uri": "https://localhost:8080/"
        },
        "id": "qyU54YykA9nA",
        "outputId": "f4c27769-1292-4c2b-aedd-027d528786b8"
      },
      "source": [
        "post2_sample['bluecars_taken'].kurt()"
      ],
      "execution_count": null,
      "outputs": [
        {
          "output_type": "execute_result",
          "data": {
            "text/plain": [
              "0.0791228558394459"
            ]
          },
          "metadata": {
            "tags": []
          },
          "execution_count": 38
        }
      ]
    },
    {
      "cell_type": "markdown",
      "metadata": {
        "id": "wEJfpvPRnxej"
      },
      "source": [
        "### iii. Visualizations"
      ]
    },
    {
      "cell_type": "markdown",
      "metadata": {
        "id": "3m1G4Vj-n9x_"
      },
      "source": [
        "#### a. Postal code 75015"
      ]
    },
    {
      "cell_type": "code",
      "metadata": {
        "colab": {
          "base_uri": "https://localhost:8080/",
          "height": 356
        },
        "id": "OMWHL248npaN",
        "outputId": "dd2d3bcb-7906-4d58-ef91-fa323825375b"
      },
      "source": [
        "# Specifying the size of the graph\n",
        "fig, ax = plt.subplots(figsize=(8,5))\n",
        "\n",
        "# Ploting density plot and histogram of the number of cars taken from station with postal code 75015\n",
        "sns.histplot(post1_sample['bluecars_taken'], kde=True, stat=\"density\",color='darkblue', bins=10)\n",
        "\n",
        "# Label the graph\n",
        "plt.title('Density Plot and Histogram for the Number of Bluecars Taken from Postal Code 75015 Station', fontsize=14, y=1.015)\n",
        "\n",
        "plt.show()\n"
      ],
      "execution_count": null,
      "outputs": [
        {
          "output_type": "display_data",
          "data": {
            "image/png": "[encoded data removed]",
            "text/plain": [
              "<Figure size 576x360 with 1 Axes>"
            ]
          },
          "metadata": {
            "tags": [],
            "needs_background": "light"
          }
        }
      ]
    },
    {
      "cell_type": "markdown",
      "metadata": {
        "id": "mI8kH4DtoDQV"
      },
      "source": [
        "#### b. Postal code 75016"
      ]
    },
    {
      "cell_type": "code",
      "metadata": {
        "colab": {
          "base_uri": "https://localhost:8080/",
          "height": 356
        },
        "id": "tdk9CjiCoLiT",
        "outputId": "3500ea31-80d8-4c7f-eacc-a431619e2a2e"
      },
      "source": [
        "# Specifying the size of the graph\n",
        "fig, ax = plt.subplots(figsize=(8,5))\n",
        "\n",
        "# Ploting density plot and histogram of the number of cars taken from station with postal code 75016\n",
        "sns.histplot(post2_sample['bluecars_taken'], kde=True, stat=\"density\",color='darkblue', bins=10)\n",
        "\n",
        "# Label the graph\n",
        "plt.title('Density Plot and Histogram for the Number of Bluecars Taken from Postal Code 75016 Station', fontsize=14, y=1.015)\n",
        "\n",
        "plt.show()"
      ],
      "execution_count": null,
      "outputs": [
        {
          "output_type": "display_data",
          "data": {
            "image/png": "[encoded data removed]",
            "text/plain": [
              "<Figure size 576x360 with 1 Axes>"
            ]
          },
          "metadata": {
            "tags": [],
            "needs_background": "light"
          }
        }
      ]
    },
    {
      "cell_type": "markdown",
      "metadata": {
        "id": "OnEdbb0nf9lQ"
      },
      "source": [
        "## Hypothesis Testing"
      ]
    },
    {
      "cell_type": "markdown",
      "metadata": {
        "id": "XsQZUe4ZVHPM"
      },
      "source": [
        "Since we do not know the population's standard deviation, the most appropriate hypothesis test for this study will be a t-test but before the t-test is conducted, the assumptions of the test need to be checked to see if the t-test results can be trusted.    \n",
        "\n",
        "The following are assumptions of a t-test\n",
        "1. The samples are independently and randomly drawn\n",
        "2. The distribution of the residuals between the two groups follow the normal distribution\n",
        "3. The variances between the two groups are equal, incase of unequal variances we would conduct a Welch’s t-test instead of a Student t-test  \n",
        "\n",
        "If any of these assumptions are violated then another test should be used.  \n"
      ]
    },
    {
      "cell_type": "markdown",
      "metadata": {
        "id": "ihqwWe3Zl5-Q"
      },
      "source": [
        "### Checking the equality of the variances"
      ]
    },
    {
      "cell_type": "code",
      "metadata": {
        "colab": {
          "base_uri": "https://localhost:8080/"
        },
        "id": "-vVv-rsBVCsa",
        "outputId": "91484eda-fe96-4e87-95cc-5a9c9d18786f"
      },
      "source": [
        "## Check the equality of the variances between the two groups using Levene's test\n",
        "\n",
        "stat,p = stats.levene(post1_sample['bluecars_taken'], post2_sample['bluecars_taken'], center='mean') # we use center = mean because our samples are fairly/moderately skewed\n",
        "\n",
        "print('Statistic=%.4f, pvalue=%.4f' % (stat, p))\n",
        "\n",
        "# Interpretation of the Levene's test results\n",
        "\n",
        "alpha = 0.05\n",
        "if p <= alpha:\n",
        "\tprint('The two variances are significantly different')\n",
        "else:\n",
        "\tprint('The two variances are approximately equal')"
      ],
      "execution_count": null,
      "outputs": [
        {
          "output_type": "stream",
          "text": [
            "Statistic=5.5953, pvalue=0.0194\n",
            "The two variances are significantly different\n"
          ],
          "name": "stdout"
        }
      ]
    },
    {
      "cell_type": "markdown",
      "metadata": {
        "id": "PKHiD47mps4D"
      },
      "source": [
        "### Checking the distribution of the residuals between the two groups"
      ]
    },
    {
      "cell_type": "code",
      "metadata": {
        "colab": {
          "base_uri": "https://localhost:8080/"
        },
        "id": "91ve252ZSBEU",
        "outputId": "a936a6d7-d0bc-415a-c563-d14d98802b1b"
      },
      "source": [
        "# Check the distribution of the residuals between the two groups using the Shapiro-Wilk test\n",
        "from scipy.stats import shapiro\n",
        "\n",
        "diff = post1_sample['bluecars_taken'] - post2_sample['bluecars_taken']\n",
        "\n",
        "stat, p = shapiro(diff)\n",
        "\n",
        "print('Statistic=%.4f, pvalue=%.4f' % (stat, p))\n",
        "\n",
        "# Interpretation of the Shapiro-Wilk test results\n",
        "alpha = 0.05\n",
        "if p <= alpha:\n",
        "\tprint('Sample does not look Gaussian')\n",
        "else:\n",
        "\tprint('Sample looks Gaussian')"
      ],
      "execution_count": null,
      "outputs": [
        {
          "output_type": "stream",
          "text": [
            "Statistic=nan, pvalue=1.0000\n",
            "Sample looks Gaussian\n"
          ],
          "name": "stdout"
        }
      ]
    },
    {
      "cell_type": "markdown",
      "metadata": {
        "id": "LwS4McOjCblH"
      },
      "source": [
        "Since the samples are independently and randomly drawn and the distribution of the residuals between the two groups follow the normal distribution, but the variances between the two groups are significantly different, we will conduct the Welch's t-test."
      ]
    },
    {
      "cell_type": "markdown",
      "metadata": {
        "id": "ffgx3S9_xa11"
      },
      "source": [
        "### Conducting the t-test"
      ]
    },
    {
      "cell_type": "code",
      "metadata": {
        "id": "XDcawo0xVuDb",
        "colab": {
          "base_uri": "https://localhost:8080/"
        },
        "outputId": "727a5780-6142-4e39-b8b8-4086bb94b727"
      },
      "source": [
        "# Conduct the independent Welch's t-test using scipy.stats, use the stats.ttest_ind() method\n",
        "stat,p = stats.ttest_ind(post1_sample['bluecars_taken'], post2_sample['bluecars_taken'], equal_var=False)\n",
        "\n",
        "print('Statistic=%.14f, pvalue=%.14f' % (stat, p))\n",
        "\n",
        "# Interpretation of the t-test results with 0.05 as the significance level\n",
        "alpha = 0.025 #since the test is two tailed\n",
        "if p <= alpha:\n",
        "\tprint('We reject the null hypothesis')\n",
        "else:\n",
        "\tprint('We fail to reject the null hypothesis')"
      ],
      "execution_count": null,
      "outputs": [
        {
          "output_type": "stream",
          "text": [
            "Statistic=4.80747103604465, pvalue=0.00000418073786\n",
            "We reject the null hypothesis\n"
          ],
          "name": "stdout"
        }
      ]
    },
    {
      "cell_type": "markdown",
      "metadata": {
        "id": "ygAND6eSl95k"
      },
      "source": [
        "**Conclusion**  \n",
        "Based on the hypothesis test, we conclude that the difference between the average number of cars taken from station with postal code 75015 and the average number of cars taken from station with postal code 75016 is statistically significant; therefore we reject the null hypothesis for the alternative hypothesis."
      ]
    }
  ]
}