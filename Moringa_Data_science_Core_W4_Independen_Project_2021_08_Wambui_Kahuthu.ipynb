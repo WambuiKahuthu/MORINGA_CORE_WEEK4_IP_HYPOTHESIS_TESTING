{
  "nbformat": 4,
  "nbformat_minor": 0,
  "metadata": {
    "colab": {
      "name": "Moringa_Data_science_Core_W4_Independen_Project_2021_08_Wambui_Kahuthu.ipynb",
      "provenance": [],
      "collapsed_sections": [],
      "authorship_tag": "ABX9TyOkuh7DgvsnrlHKOkT88TR9",
      "include_colab_link": true
    },
    "kernelspec": {
      "name": "python3",
      "display_name": "Python 3"
    },
    "language_info": {
      "name": "python"
    }
  },
  "cells": [
    {
      "cell_type": "markdown",
      "metadata": {
        "id": "view-in-github",
        "colab_type": "text"
      },
      "source": [
        "<a href=\"https://colab.research.google.com/github/WambuiKahuthu/MORINGA_CORE_WEEK4_IP_HYPOTHESIS_TESTING/blob/main/Moringa_Data_science_Core_W4_Independen_Project_2021_08_Wambui_Kahuthu.ipynb\" target=\"_parent\"><img src=\"https://colab.research.google.com/assets/colab-badge.svg\" alt=\"Open In Colab\"/></a>"
      ]
    },
    {
      "cell_type": "markdown",
      "metadata": {
        "id": "ETautjxr-Mni"
      },
      "source": [
        "# Hypothesis Testing"
      ]
    },
    {
      "cell_type": "markdown",
      "metadata": {
        "id": "VXhi2HLORto-"
      },
      "source": [
        "**Background of the study**  \n",
        "After a quick look at the dataset that contains data on the usage of Autolib's cars between 1st January 2018 and 19th June 2018, Autolib's manager claims that the average number of Bluecars taken from station with postal code 75015 is the same as the average number of Bluecars taken from station with postal code 75016. This study seeks to establish whether this claim is true or not.\n",
        "\n",
        "**Hypothesis**  \n",
        "Null hypothesis: There is no difference between the average number of cars taken from station with postal code 75015 and the average number of cars taken from station with postal code 75016  \n",
        "Alternative hypothesis: There is a difference between the average number of cars taken from station with postal code 75015 and the average number of cars taken from station with postal code 75016\n",
        "\n",
        "*Keys*  \n",
        "$H_{0}$ = Null hypothesis  \n",
        "$H_{1}$ = Alternative hypothesis  \n",
        "$mu_{1}$ = Average number of cars taken from postal code 75015  \n",
        "$mu_{2}$ = Average number of cars taken from postal code 75016  \n",
        "\n",
        "$H_{0}$: $mu_{1}$ = $mu_{2}$  \n",
        "$H_{1}$: $mu_{1}$ ≠ $mu_{2}$  \n",
        "\n",
        "**Process**  \n",
        "We will load the required dataset for the study, clean it, obtain sample units from the two postal codes, perform univariate analysis, then conduct a hypothesis test so as to determine whether we should reject or fail to reject the null hypothesis. \n"
      ]
    },
    {
      "cell_type": "markdown",
      "metadata": {
        "id": "rMbkCzdfQ35v"
      },
      "source": [
        "## Importing Our Libraries"
      ]
    },
    {
      "cell_type": "code",
      "metadata": {
        "id": "u3hksM-2Q1vn"
      },
      "source": [
        "# importing pandas\n",
        "import pandas as pd\n",
        "\n",
        "# importing numpy\n",
        "import numpy as np\n",
        "\n",
        "# importing matplotlib.pyplot\n",
        "import matplotlib.pyplot as plt\n",
        "\n",
        "# importing scipy.stats\n",
        "import scipy.stats as stats\n",
        "\n",
        "# importing seaborn\n",
        "import seaborn as sns"
      ],
      "execution_count": 257,
      "outputs": []
    },
    {
      "cell_type": "markdown",
      "metadata": {
        "id": "9XWfyxBCQi8m"
      },
      "source": [
        "## Loading Our Dataset"
      ]
    },
    {
      "cell_type": "code",
      "metadata": {
        "id": "neY6mMbLQgfU"
      },
      "source": [
        "# Load csv dataset with the required data from given url 'http://bit.ly/DSCoreAutolibDataset'\n",
        "autolib = pd.read_csv('http://bit.ly/DSCoreAutolibDataset')"
      ],
      "execution_count": 258,
      "outputs": []
    },
    {
      "cell_type": "markdown",
      "metadata": {
        "id": "KCBViZFbWG5w"
      },
      "source": [
        "## Reading the Dataset"
      ]
    },
    {
      "cell_type": "code",
      "metadata": {
        "colab": {
          "base_uri": "https://localhost:8080/",
          "height": 237
        },
        "id": "fB_YbaPAWUIv",
        "outputId": "da3a6501-3bd9-4285-a62e-70b2a91bb9c9"
      },
      "source": [
        "# Preview the top 5 entries in our dataset\n",
        "autolib.head()"
      ],
      "execution_count": 259,
      "outputs": [
        {
          "output_type": "execute_result",
          "data": {
            "text/html": [
              "<div>\n",
              "<style scoped>\n",
              "    .dataframe tbody tr th:only-of-type {\n",
              "        vertical-align: middle;\n",
              "    }\n",
              "\n",
              "    .dataframe tbody tr th {\n",
              "        vertical-align: top;\n",
              "    }\n",
              "\n",
              "    .dataframe thead th {\n",
              "        text-align: right;\n",
              "    }\n",
              "</style>\n",
              "<table border=\"1\" class=\"dataframe\">\n",
              "  <thead>\n",
              "    <tr style=\"text-align: right;\">\n",
              "      <th></th>\n",
              "      <th>Postal code</th>\n",
              "      <th>date</th>\n",
              "      <th>n_daily_data_points</th>\n",
              "      <th>dayOfWeek</th>\n",
              "      <th>day_type</th>\n",
              "      <th>BlueCars_taken_sum</th>\n",
              "      <th>BlueCars_returned_sum</th>\n",
              "      <th>Utilib_taken_sum</th>\n",
              "      <th>Utilib_returned_sum</th>\n",
              "      <th>Utilib_14_taken_sum</th>\n",
              "      <th>Utilib_14_returned_sum</th>\n",
              "      <th>Slots_freed_sum</th>\n",
              "      <th>Slots_taken_sum</th>\n",
              "    </tr>\n",
              "  </thead>\n",
              "  <tbody>\n",
              "    <tr>\n",
              "      <th>0</th>\n",
              "      <td>75001</td>\n",
              "      <td>1/1/2018</td>\n",
              "      <td>1440</td>\n",
              "      <td>0</td>\n",
              "      <td>weekday</td>\n",
              "      <td>110</td>\n",
              "      <td>103</td>\n",
              "      <td>3</td>\n",
              "      <td>2</td>\n",
              "      <td>10</td>\n",
              "      <td>9</td>\n",
              "      <td>22</td>\n",
              "      <td>20</td>\n",
              "    </tr>\n",
              "    <tr>\n",
              "      <th>1</th>\n",
              "      <td>75001</td>\n",
              "      <td>1/2/2018</td>\n",
              "      <td>1438</td>\n",
              "      <td>1</td>\n",
              "      <td>weekday</td>\n",
              "      <td>98</td>\n",
              "      <td>94</td>\n",
              "      <td>1</td>\n",
              "      <td>1</td>\n",
              "      <td>8</td>\n",
              "      <td>8</td>\n",
              "      <td>23</td>\n",
              "      <td>22</td>\n",
              "    </tr>\n",
              "    <tr>\n",
              "      <th>2</th>\n",
              "      <td>75001</td>\n",
              "      <td>1/3/2018</td>\n",
              "      <td>1439</td>\n",
              "      <td>2</td>\n",
              "      <td>weekday</td>\n",
              "      <td>138</td>\n",
              "      <td>139</td>\n",
              "      <td>0</td>\n",
              "      <td>0</td>\n",
              "      <td>2</td>\n",
              "      <td>2</td>\n",
              "      <td>27</td>\n",
              "      <td>27</td>\n",
              "    </tr>\n",
              "    <tr>\n",
              "      <th>3</th>\n",
              "      <td>75001</td>\n",
              "      <td>1/4/2018</td>\n",
              "      <td>1320</td>\n",
              "      <td>3</td>\n",
              "      <td>weekday</td>\n",
              "      <td>104</td>\n",
              "      <td>104</td>\n",
              "      <td>2</td>\n",
              "      <td>2</td>\n",
              "      <td>9</td>\n",
              "      <td>8</td>\n",
              "      <td>25</td>\n",
              "      <td>21</td>\n",
              "    </tr>\n",
              "    <tr>\n",
              "      <th>4</th>\n",
              "      <td>75001</td>\n",
              "      <td>1/5/2018</td>\n",
              "      <td>1440</td>\n",
              "      <td>4</td>\n",
              "      <td>weekday</td>\n",
              "      <td>114</td>\n",
              "      <td>117</td>\n",
              "      <td>3</td>\n",
              "      <td>3</td>\n",
              "      <td>6</td>\n",
              "      <td>6</td>\n",
              "      <td>18</td>\n",
              "      <td>20</td>\n",
              "    </tr>\n",
              "  </tbody>\n",
              "</table>\n",
              "</div>"
            ],
            "text/plain": [
              "   Postal code      date  ...  Slots_freed_sum  Slots_taken_sum\n",
              "0        75001  1/1/2018  ...               22               20\n",
              "1        75001  1/2/2018  ...               23               22\n",
              "2        75001  1/3/2018  ...               27               27\n",
              "3        75001  1/4/2018  ...               25               21\n",
              "4        75001  1/5/2018  ...               18               20\n",
              "\n",
              "[5 rows x 13 columns]"
            ]
          },
          "metadata": {
            "tags": []
          },
          "execution_count": 259
        }
      ]
    },
    {
      "cell_type": "code",
      "metadata": {
        "colab": {
          "base_uri": "https://localhost:8080/",
          "height": 237
        },
        "id": "NkkFDzlUWfpC",
        "outputId": "4bf01c26-117f-4499-f913-ca4d81385e53"
      },
      "source": [
        "# Preview the bottom 5 entries in our dataset\n",
        "autolib.tail()"
      ],
      "execution_count": 260,
      "outputs": [
        {
          "output_type": "execute_result",
          "data": {
            "text/html": [
              "<div>\n",
              "<style scoped>\n",
              "    .dataframe tbody tr th:only-of-type {\n",
              "        vertical-align: middle;\n",
              "    }\n",
              "\n",
              "    .dataframe tbody tr th {\n",
              "        vertical-align: top;\n",
              "    }\n",
              "\n",
              "    .dataframe thead th {\n",
              "        text-align: right;\n",
              "    }\n",
              "</style>\n",
              "<table border=\"1\" class=\"dataframe\">\n",
              "  <thead>\n",
              "    <tr style=\"text-align: right;\">\n",
              "      <th></th>\n",
              "      <th>Postal code</th>\n",
              "      <th>date</th>\n",
              "      <th>n_daily_data_points</th>\n",
              "      <th>dayOfWeek</th>\n",
              "      <th>day_type</th>\n",
              "      <th>BlueCars_taken_sum</th>\n",
              "      <th>BlueCars_returned_sum</th>\n",
              "      <th>Utilib_taken_sum</th>\n",
              "      <th>Utilib_returned_sum</th>\n",
              "      <th>Utilib_14_taken_sum</th>\n",
              "      <th>Utilib_14_returned_sum</th>\n",
              "      <th>Slots_freed_sum</th>\n",
              "      <th>Slots_taken_sum</th>\n",
              "    </tr>\n",
              "  </thead>\n",
              "  <tbody>\n",
              "    <tr>\n",
              "      <th>16080</th>\n",
              "      <td>95880</td>\n",
              "      <td>6/15/2018</td>\n",
              "      <td>1440</td>\n",
              "      <td>4</td>\n",
              "      <td>weekday</td>\n",
              "      <td>15</td>\n",
              "      <td>10</td>\n",
              "      <td>0</td>\n",
              "      <td>0</td>\n",
              "      <td>2</td>\n",
              "      <td>3</td>\n",
              "      <td>0</td>\n",
              "      <td>0</td>\n",
              "    </tr>\n",
              "    <tr>\n",
              "      <th>16081</th>\n",
              "      <td>95880</td>\n",
              "      <td>6/16/2018</td>\n",
              "      <td>1440</td>\n",
              "      <td>5</td>\n",
              "      <td>weekend</td>\n",
              "      <td>19</td>\n",
              "      <td>19</td>\n",
              "      <td>0</td>\n",
              "      <td>0</td>\n",
              "      <td>2</td>\n",
              "      <td>1</td>\n",
              "      <td>0</td>\n",
              "      <td>0</td>\n",
              "    </tr>\n",
              "    <tr>\n",
              "      <th>16082</th>\n",
              "      <td>95880</td>\n",
              "      <td>6/17/2018</td>\n",
              "      <td>1440</td>\n",
              "      <td>6</td>\n",
              "      <td>weekend</td>\n",
              "      <td>33</td>\n",
              "      <td>35</td>\n",
              "      <td>1</td>\n",
              "      <td>1</td>\n",
              "      <td>0</td>\n",
              "      <td>0</td>\n",
              "      <td>0</td>\n",
              "      <td>0</td>\n",
              "    </tr>\n",
              "    <tr>\n",
              "      <th>16083</th>\n",
              "      <td>95880</td>\n",
              "      <td>6/18/2018</td>\n",
              "      <td>1440</td>\n",
              "      <td>0</td>\n",
              "      <td>weekday</td>\n",
              "      <td>11</td>\n",
              "      <td>14</td>\n",
              "      <td>3</td>\n",
              "      <td>5</td>\n",
              "      <td>2</td>\n",
              "      <td>2</td>\n",
              "      <td>0</td>\n",
              "      <td>0</td>\n",
              "    </tr>\n",
              "    <tr>\n",
              "      <th>16084</th>\n",
              "      <td>95880</td>\n",
              "      <td>6/19/2018</td>\n",
              "      <td>1370</td>\n",
              "      <td>1</td>\n",
              "      <td>weekday</td>\n",
              "      <td>2</td>\n",
              "      <td>2</td>\n",
              "      <td>2</td>\n",
              "      <td>1</td>\n",
              "      <td>0</td>\n",
              "      <td>0</td>\n",
              "      <td>0</td>\n",
              "      <td>0</td>\n",
              "    </tr>\n",
              "  </tbody>\n",
              "</table>\n",
              "</div>"
            ],
            "text/plain": [
              "       Postal code       date  ...  Slots_freed_sum  Slots_taken_sum\n",
              "16080        95880  6/15/2018  ...                0                0\n",
              "16081        95880  6/16/2018  ...                0                0\n",
              "16082        95880  6/17/2018  ...                0                0\n",
              "16083        95880  6/18/2018  ...                0                0\n",
              "16084        95880  6/19/2018  ...                0                0\n",
              "\n",
              "[5 rows x 13 columns]"
            ]
          },
          "metadata": {
            "tags": []
          },
          "execution_count": 260
        }
      ]
    },
    {
      "cell_type": "code",
      "metadata": {
        "colab": {
          "base_uri": "https://localhost:8080/"
        },
        "id": "PmXuvuFSm6o8",
        "outputId": "9b7ca8b3-db77-46f0-d11b-a75ce70ffef2"
      },
      "source": [
        "# Check the general information about our dataset\n",
        "# The information includes the number of entries and columns, name of each column, number of non-null values in every column, the data type of each column, and the distribution of each data type\n",
        "autolib.info()"
      ],
      "execution_count": 261,
      "outputs": [
        {
          "output_type": "stream",
          "text": [
            "<class 'pandas.core.frame.DataFrame'>\n",
            "RangeIndex: 16085 entries, 0 to 16084\n",
            "Data columns (total 13 columns):\n",
            " #   Column                  Non-Null Count  Dtype \n",
            "---  ------                  --------------  ----- \n",
            " 0   Postal code             16085 non-null  int64 \n",
            " 1   date                    16085 non-null  object\n",
            " 2   n_daily_data_points     16085 non-null  int64 \n",
            " 3   dayOfWeek               16085 non-null  int64 \n",
            " 4   day_type                16085 non-null  object\n",
            " 5   BlueCars_taken_sum      16085 non-null  int64 \n",
            " 6   BlueCars_returned_sum   16085 non-null  int64 \n",
            " 7   Utilib_taken_sum        16085 non-null  int64 \n",
            " 8   Utilib_returned_sum     16085 non-null  int64 \n",
            " 9   Utilib_14_taken_sum     16085 non-null  int64 \n",
            " 10  Utilib_14_returned_sum  16085 non-null  int64 \n",
            " 11  Slots_freed_sum         16085 non-null  int64 \n",
            " 12  Slots_taken_sum         16085 non-null  int64 \n",
            "dtypes: int64(11), object(2)\n",
            "memory usage: 1.6+ MB\n"
          ],
          "name": "stdout"
        }
      ]
    },
    {
      "cell_type": "code",
      "metadata": {
        "colab": {
          "base_uri": "https://localhost:8080/"
        },
        "id": "PVm1Na8CyMu8",
        "outputId": "7f1b0039-ff54-4c95-9ff0-1221f934826e"
      },
      "source": [
        "# Change \"Postal code\" and \"date\" columns' data types\n",
        "autolib['date'] = pd.to_datetime(autolib['date'])\n",
        "\n",
        "autolib['Postal code'] = autolib['Postal code'].astype(str)\n",
        "\n",
        "# Verify data type change\n",
        "autolib.dtypes"
      ],
      "execution_count": 262,
      "outputs": [
        {
          "output_type": "execute_result",
          "data": {
            "text/plain": [
              "Postal code                       object\n",
              "date                      datetime64[ns]\n",
              "n_daily_data_points                int64\n",
              "dayOfWeek                          int64\n",
              "day_type                          object\n",
              "BlueCars_taken_sum                 int64\n",
              "BlueCars_returned_sum              int64\n",
              "Utilib_taken_sum                   int64\n",
              "Utilib_returned_sum                int64\n",
              "Utilib_14_taken_sum                int64\n",
              "Utilib_14_returned_sum             int64\n",
              "Slots_freed_sum                    int64\n",
              "Slots_taken_sum                    int64\n",
              "dtype: object"
            ]
          },
          "metadata": {
            "tags": []
          },
          "execution_count": 262
        }
      ]
    },
    {
      "cell_type": "markdown",
      "metadata": {
        "id": "EBsIQLn7c2hQ"
      },
      "source": [
        "## Cleaning the Data"
      ]
    },
    {
      "cell_type": "markdown",
      "metadata": {
        "id": "E1w10NTnc8FQ"
      },
      "source": [
        "### i. Validity"
      ]
    },
    {
      "cell_type": "code",
      "metadata": {
        "colab": {
          "base_uri": "https://localhost:8080/",
          "height": 411
        },
        "id": "1-5VpGZNc7OT",
        "outputId": "1978be86-02ae-4078-f71d-f011330157a3"
      },
      "source": [
        "# Select the relevant columns for the analysis\n",
        "# Create dataframe with \"Postal code\", \"BlueCars_taken_sum\", and \"date\" colums (date column is retained to identify duplicates in data)\n",
        "# Select postal codes \"75015\" and \"75016\" in \"Postal code\" column and specify \"weekday\" as the day type\n",
        "postal_data = autolib[['Postal code', 'date','BlueCars_taken_sum']][((autolib['Postal code']=='75015')|(autolib['Postal code']=='75016'))&(autolib['day_type']=='weekday')].reset_index()\n",
        "\n",
        "# Drop 'index' column\n",
        "cols = [0] #specify the index of the column to be dropped\n",
        "postal_data.drop(postal_data.columns[cols],axis=1,inplace=True) #drop the column by the index\n",
        "\n",
        "# Rename BlueCars_taken_sum to bluecars_taken\n",
        "postal_data.rename(columns = {'BlueCars_taken_sum':'bluecars_taken'}, inplace = True)\n",
        "\n",
        "# Display the some records of the dataframe\n",
        "postal_data"
      ],
      "execution_count": 263,
      "outputs": [
        {
          "output_type": "execute_result",
          "data": {
            "text/html": [
              "<div>\n",
              "<style scoped>\n",
              "    .dataframe tbody tr th:only-of-type {\n",
              "        vertical-align: middle;\n",
              "    }\n",
              "\n",
              "    .dataframe tbody tr th {\n",
              "        vertical-align: top;\n",
              "    }\n",
              "\n",
              "    .dataframe thead th {\n",
              "        text-align: right;\n",
              "    }\n",
              "</style>\n",
              "<table border=\"1\" class=\"dataframe\">\n",
              "  <thead>\n",
              "    <tr style=\"text-align: right;\">\n",
              "      <th></th>\n",
              "      <th>Postal code</th>\n",
              "      <th>date</th>\n",
              "      <th>bluecars_taken</th>\n",
              "    </tr>\n",
              "  </thead>\n",
              "  <tbody>\n",
              "    <tr>\n",
              "      <th>0</th>\n",
              "      <td>75015</td>\n",
              "      <td>2018-01-01</td>\n",
              "      <td>781</td>\n",
              "    </tr>\n",
              "    <tr>\n",
              "      <th>1</th>\n",
              "      <td>75015</td>\n",
              "      <td>2018-01-02</td>\n",
              "      <td>710</td>\n",
              "    </tr>\n",
              "    <tr>\n",
              "      <th>2</th>\n",
              "      <td>75015</td>\n",
              "      <td>2018-01-03</td>\n",
              "      <td>739</td>\n",
              "    </tr>\n",
              "    <tr>\n",
              "      <th>3</th>\n",
              "      <td>75015</td>\n",
              "      <td>2018-01-04</td>\n",
              "      <td>669</td>\n",
              "    </tr>\n",
              "    <tr>\n",
              "      <th>4</th>\n",
              "      <td>75015</td>\n",
              "      <td>2018-01-05</td>\n",
              "      <td>852</td>\n",
              "    </tr>\n",
              "    <tr>\n",
              "      <th>...</th>\n",
              "      <td>...</td>\n",
              "      <td>...</td>\n",
              "      <td>...</td>\n",
              "    </tr>\n",
              "    <tr>\n",
              "      <th>219</th>\n",
              "      <td>75016</td>\n",
              "      <td>2018-06-13</td>\n",
              "      <td>850</td>\n",
              "    </tr>\n",
              "    <tr>\n",
              "      <th>220</th>\n",
              "      <td>75016</td>\n",
              "      <td>2018-06-14</td>\n",
              "      <td>844</td>\n",
              "    </tr>\n",
              "    <tr>\n",
              "      <th>221</th>\n",
              "      <td>75016</td>\n",
              "      <td>2018-06-15</td>\n",
              "      <td>909</td>\n",
              "    </tr>\n",
              "    <tr>\n",
              "      <th>222</th>\n",
              "      <td>75016</td>\n",
              "      <td>2018-06-18</td>\n",
              "      <td>781</td>\n",
              "    </tr>\n",
              "    <tr>\n",
              "      <th>223</th>\n",
              "      <td>75016</td>\n",
              "      <td>2018-06-19</td>\n",
              "      <td>36</td>\n",
              "    </tr>\n",
              "  </tbody>\n",
              "</table>\n",
              "<p>224 rows × 3 columns</p>\n",
              "</div>"
            ],
            "text/plain": [
              "    Postal code       date  bluecars_taken\n",
              "0         75015 2018-01-01             781\n",
              "1         75015 2018-01-02             710\n",
              "2         75015 2018-01-03             739\n",
              "3         75015 2018-01-04             669\n",
              "4         75015 2018-01-05             852\n",
              "..          ...        ...             ...\n",
              "219       75016 2018-06-13             850\n",
              "220       75016 2018-06-14             844\n",
              "221       75016 2018-06-15             909\n",
              "222       75016 2018-06-18             781\n",
              "223       75016 2018-06-19              36\n",
              "\n",
              "[224 rows x 3 columns]"
            ]
          },
          "metadata": {
            "tags": []
          },
          "execution_count": 263
        }
      ]
    },
    {
      "cell_type": "markdown",
      "metadata": {
        "id": "y820ZzZYgirr"
      },
      "source": [
        "### ii. Uniformity"
      ]
    },
    {
      "cell_type": "code",
      "metadata": {
        "colab": {
          "base_uri": "https://localhost:8080/"
        },
        "id": "WOJfflOIhVJ6",
        "outputId": "c36a5221-bb07-4e82-fb9b-fa315d6b851b"
      },
      "source": [
        "#Standardize the column names by removing white spaces using strip()function, lowering the cases using lower() function, and replacing middle spaces with underscore \n",
        "postal_data.columns = postal_data.columns.str.strip().str.lower().str.replace(' ', '_')\n",
        "\n",
        "#display the standardized column names  \n",
        "postal_data.columns"
      ],
      "execution_count": 264,
      "outputs": [
        {
          "output_type": "execute_result",
          "data": {
            "text/plain": [
              "Index(['postal_code', 'date', 'bluecars_taken'], dtype='object')"
            ]
          },
          "metadata": {
            "tags": []
          },
          "execution_count": 264
        }
      ]
    },
    {
      "cell_type": "markdown",
      "metadata": {
        "id": "1ZbUpHJndZ8h"
      },
      "source": [
        "### iii. Completeness"
      ]
    },
    {
      "cell_type": "code",
      "metadata": {
        "colab": {
          "base_uri": "https://localhost:8080/"
        },
        "id": "UoZummDZhUbI",
        "outputId": "0eea283c-1abd-4286-c87b-c012c8c1780f"
      },
      "source": [
        "# Check for duplicates in the dataset\n",
        "postal_data.duplicated().sum()"
      ],
      "execution_count": 265,
      "outputs": [
        {
          "output_type": "execute_result",
          "data": {
            "text/plain": [
              "0"
            ]
          },
          "metadata": {
            "tags": []
          },
          "execution_count": 265
        }
      ]
    },
    {
      "cell_type": "markdown",
      "metadata": {
        "id": "ASPY-6Pkyvlk"
      },
      "source": [
        "There are no duplicates to be dropped\n"
      ]
    },
    {
      "cell_type": "markdown",
      "metadata": {
        "id": "EgAsAGZxhXLJ"
      },
      "source": [
        "### iv. Consistency"
      ]
    },
    {
      "cell_type": "code",
      "metadata": {
        "colab": {
          "base_uri": "https://localhost:8080/"
        },
        "id": "02lsToHmhegv",
        "outputId": "cd4c3bb5-a910-4c9d-d324-c49726ceec1a"
      },
      "source": [
        "# Check for null values\n",
        "postal_data.isnull().sum().sum()"
      ],
      "execution_count": 266,
      "outputs": [
        {
          "output_type": "execute_result",
          "data": {
            "text/plain": [
              "0"
            ]
          },
          "metadata": {
            "tags": []
          },
          "execution_count": 266
        }
      ]
    },
    {
      "cell_type": "markdown",
      "metadata": {
        "id": "ldZTnGDIy2wG"
      },
      "source": [
        "There are no null values to be dropped or replaced"
      ]
    },
    {
      "cell_type": "markdown",
      "metadata": {
        "id": "WlcllR0VgxRX"
      },
      "source": [
        "### v. Anomalies"
      ]
    },
    {
      "cell_type": "code",
      "metadata": {
        "id": "S_FInt4Igwpi"
      },
      "source": [
        "# Upon the investigation of the main dataset it was discovered that records on dates '2018-06-19' and '2018-02-24' were significantly lower than the usual data entries due to unidentified reasons. \n",
        "# As much as they show the accurate data on the car usage, on the specific days, they do not represent the usual car usage in the different postal codes.\n",
        "# If included in a random sample, they are likely to change the results or assumptions of the analysis; therefore, they will be dropped.\n",
        "\n",
        "# Drop rows with '2018-06-19' or '2018-02-24' in the 'date' column\n",
        "postal_data = postal_data.drop(postal_data[(postal_data.date=='2018-06-19')|(postal_data.date=='2018-02-24')].index)"
      ],
      "execution_count": 267,
      "outputs": []
    },
    {
      "cell_type": "markdown",
      "metadata": {
        "id": "tXRVMZRyoyom"
      },
      "source": [
        "### v. Outliers"
      ]
    },
    {
      "cell_type": "markdown",
      "metadata": {
        "id": "fMOMZMc0SRfe"
      },
      "source": [
        "Instead of finding outliers within the general dataframe, we will divide the dataframe per postal code and find outliers within the different postal codes"
      ]
    },
    {
      "cell_type": "code",
      "metadata": {
        "colab": {
          "base_uri": "https://localhost:8080/",
          "height": 288
        },
        "id": "92-STry6Szu7",
        "outputId": "e97cb92e-4378-4780-9d44-af74400f4d9f"
      },
      "source": [
        "# Create a dataset with 75015's postal code data\n",
        "post1 =  postal_data[['postal_code', 'bluecars_taken']][(postal_data['postal_code']=='75015')]\n",
        "\n",
        "# Plot a boxplot to identify outliers\n",
        "post1.boxplot(column=['bluecars_taken'], grid=False)\n",
        "\n",
        "# Giving the box plot a title\n",
        "plt.title('Distribution of Bluecars Taken on Weekdays From Postal Code 75015', fontsize=15, y=1.015)\n",
        "# labelling the y axis\n",
        "plt.ylabel('Number or Bluecars Taken', fontsize=14, labelpad=15)\n",
        "# displaying the histogram\n",
        "plt.show()"
      ],
      "execution_count": 268,
      "outputs": [
        {
          "output_type": "display_data",
          "data": {
            "image/png": "[encoded data removed]",
            "text/plain": [
              "<Figure size 432x288 with 1 Axes>"
            ]
          },
          "metadata": {
            "tags": [],
            "needs_background": "light"
          }
        }
      ]
    },
    {
      "cell_type": "markdown",
      "metadata": {
        "id": "D4GszqEHizEM"
      },
      "source": [
        "From the boxplot, there are no outliers in postal code 75015 data."
      ]
    },
    {
      "cell_type": "code",
      "metadata": {
        "colab": {
          "base_uri": "https://localhost:8080/",
          "height": 288
        },
        "id": "-gXRRF1WVqQ3",
        "outputId": "9bd2c5b8-b4d4-4353-964d-72e7dca16a46"
      },
      "source": [
        "# Create a dataframe with 75016's postal code data\n",
        "post2 =  postal_data[['postal_code', 'bluecars_taken']][(postal_data['postal_code']=='75016')]\n",
        "\n",
        "# Plot a boxplot to identify outliers\n",
        "post2.boxplot(column=['bluecars_taken'], grid=False)\n",
        "\n",
        "# Giving the box plot a title\n",
        "plt.title('Distribution of Bluecars Taken on Weekdays From Postal Code 75016', fontsize=15, y=1.015)\n",
        "# labelling the y axis\n",
        "plt.ylabel('Number or Bluecars Taken', fontsize=14, labelpad=15)\n",
        "# displaying the histogram\n",
        "plt.show()"
      ],
      "execution_count": 269,
      "outputs": [
        {
          "output_type": "display_data",
          "data": {
            "image/png": "[encoded data removed]",
            "text/plain": [
              "<Figure size 432x288 with 1 Axes>"
            ]
          },
          "metadata": {
            "tags": [],
            "needs_background": "light"
          }
        }
      ]
    },
    {
      "cell_type": "markdown",
      "metadata": {
        "id": "X_8herV1ez8t"
      },
      "source": [
        "There is no justifiable reason to remove the outliers as they accurately reflect the usage of cars in the different postal codes; therefore, we will keep the outliers."
      ]
    },
    {
      "cell_type": "code",
      "metadata": {
        "colab": {
          "base_uri": "https://localhost:8080/"
        },
        "id": "dhjYnxy33euZ",
        "outputId": "5e319019-136c-45ff-923c-4034dfefcf8d"
      },
      "source": [
        "# View number of records of the cleaned dataset\n",
        "postal_data.shape"
      ],
      "execution_count": 270,
      "outputs": [
        {
          "output_type": "execute_result",
          "data": {
            "text/plain": [
              "(222, 3)"
            ]
          },
          "metadata": {
            "tags": []
          },
          "execution_count": 270
        }
      ]
    },
    {
      "cell_type": "markdown",
      "metadata": {
        "id": "pzGiQouG_HRM"
      },
      "source": [
        "## Sampling"
      ]
    },
    {
      "cell_type": "code",
      "metadata": {
        "colab": {
          "base_uri": "https://localhost:8080/",
          "height": 464
        },
        "id": "hTjMKdyU_GRM",
        "outputId": "4a43cf85-e1c7-4220-88c4-82f5f3d411aa"
      },
      "source": [
        "# Create a stratified random sample by grouping the dataset by postal code, then extracting sample units from each group\n",
        "# The sample size is calculated using the Yamane formula with 0.05 as the margin of error, and 95% as the confidence level \n",
        "postal_sample = postal_data.groupby('postal_code', group_keys=False).apply(lambda x : x.sample(replace='False', frac=((222/(1+222*(0.05**2)))/222)))\n",
        "\n",
        "# Print the number of sample units from each postal code\n",
        "print(postal_sample['postal_code'].value_counts())\n",
        "\n",
        "# Display some of the sample's data \n",
        "postal_sample"
      ],
      "execution_count": 271,
      "outputs": [
        {
          "output_type": "stream",
          "text": [
            "75016    71\n",
            "75015    71\n",
            "Name: postal_code, dtype: int64\n"
          ],
          "name": "stdout"
        },
        {
          "output_type": "execute_result",
          "data": {
            "text/html": [
              "<div>\n",
              "<style scoped>\n",
              "    .dataframe tbody tr th:only-of-type {\n",
              "        vertical-align: middle;\n",
              "    }\n",
              "\n",
              "    .dataframe tbody tr th {\n",
              "        vertical-align: top;\n",
              "    }\n",
              "\n",
              "    .dataframe thead th {\n",
              "        text-align: right;\n",
              "    }\n",
              "</style>\n",
              "<table border=\"1\" class=\"dataframe\">\n",
              "  <thead>\n",
              "    <tr style=\"text-align: right;\">\n",
              "      <th></th>\n",
              "      <th>postal_code</th>\n",
              "      <th>date</th>\n",
              "      <th>bluecars_taken</th>\n",
              "    </tr>\n",
              "  </thead>\n",
              "  <tbody>\n",
              "    <tr>\n",
              "      <th>42</th>\n",
              "      <td>75015</td>\n",
              "      <td>2018-03-02</td>\n",
              "      <td>897</td>\n",
              "    </tr>\n",
              "    <tr>\n",
              "      <th>0</th>\n",
              "      <td>75015</td>\n",
              "      <td>2018-01-01</td>\n",
              "      <td>781</td>\n",
              "    </tr>\n",
              "    <tr>\n",
              "      <th>21</th>\n",
              "      <td>75015</td>\n",
              "      <td>2018-01-30</td>\n",
              "      <td>732</td>\n",
              "    </tr>\n",
              "    <tr>\n",
              "      <th>2</th>\n",
              "      <td>75015</td>\n",
              "      <td>2018-01-03</td>\n",
              "      <td>739</td>\n",
              "    </tr>\n",
              "    <tr>\n",
              "      <th>52</th>\n",
              "      <td>75015</td>\n",
              "      <td>2018-03-16</td>\n",
              "      <td>898</td>\n",
              "    </tr>\n",
              "    <tr>\n",
              "      <th>...</th>\n",
              "      <td>...</td>\n",
              "      <td>...</td>\n",
              "      <td>...</td>\n",
              "    </tr>\n",
              "    <tr>\n",
              "      <th>113</th>\n",
              "      <td>75016</td>\n",
              "      <td>2018-01-02</td>\n",
              "      <td>536</td>\n",
              "    </tr>\n",
              "    <tr>\n",
              "      <th>112</th>\n",
              "      <td>75016</td>\n",
              "      <td>2018-01-01</td>\n",
              "      <td>693</td>\n",
              "    </tr>\n",
              "    <tr>\n",
              "      <th>164</th>\n",
              "      <td>75016</td>\n",
              "      <td>2018-03-16</td>\n",
              "      <td>783</td>\n",
              "    </tr>\n",
              "    <tr>\n",
              "      <th>204</th>\n",
              "      <td>75016</td>\n",
              "      <td>2018-05-23</td>\n",
              "      <td>640</td>\n",
              "    </tr>\n",
              "    <tr>\n",
              "      <th>152</th>\n",
              "      <td>75016</td>\n",
              "      <td>2018-02-28</td>\n",
              "      <td>719</td>\n",
              "    </tr>\n",
              "  </tbody>\n",
              "</table>\n",
              "<p>142 rows × 3 columns</p>\n",
              "</div>"
            ],
            "text/plain": [
              "    postal_code       date  bluecars_taken\n",
              "42        75015 2018-03-02             897\n",
              "0         75015 2018-01-01             781\n",
              "21        75015 2018-01-30             732\n",
              "2         75015 2018-01-03             739\n",
              "52        75015 2018-03-16             898\n",
              "..          ...        ...             ...\n",
              "113       75016 2018-01-02             536\n",
              "112       75016 2018-01-01             693\n",
              "164       75016 2018-03-16             783\n",
              "204       75016 2018-05-23             640\n",
              "152       75016 2018-02-28             719\n",
              "\n",
              "[142 rows x 3 columns]"
            ]
          },
          "metadata": {
            "tags": []
          },
          "execution_count": 271
        }
      ]
    },
    {
      "cell_type": "markdown",
      "metadata": {
        "id": "eYrWFuiCfuww"
      },
      "source": [
        "## Univariate Analysis"
      ]
    },
    {
      "cell_type": "markdown",
      "metadata": {
        "id": "X8Shsxvrvb6w"
      },
      "source": [
        "For us to conduct univariate analysis that is meaningful to our objective, we are required to split the sample data by the postal code in order to analyse each group independently. The univariate analysis will make us understand our sample data better."
      ]
    },
    {
      "cell_type": "code",
      "metadata": {
        "id": "G0j1pvvRweVI"
      },
      "source": [
        "# Creating a subset with 75015's postal code sample data\n",
        "post1_sample =  postal_sample[['postal_code', 'bluecars_taken']][(postal_sample['postal_code']=='75015')]\n",
        "\n",
        "# Creating a subset with 75016's postal code sample data\n",
        "post2_sample =  postal_sample[['postal_code', 'bluecars_taken']][(postal_sample['postal_code']=='75016')]"
      ],
      "execution_count": 272,
      "outputs": []
    },
    {
      "cell_type": "markdown",
      "metadata": {
        "id": "GDwOSfpj3zZX"
      },
      "source": [
        "### i. Measures of central tendancy"
      ]
    },
    {
      "cell_type": "markdown",
      "metadata": {
        "id": "HDq3Qyeo38yX"
      },
      "source": [
        "#### a. Postal code 75015 "
      ]
    },
    {
      "cell_type": "markdown",
      "metadata": {
        "id": "r8EyQLuH5RpW"
      },
      "source": [
        "Mean"
      ]
    },
    {
      "cell_type": "code",
      "metadata": {
        "colab": {
          "base_uri": "https://localhost:8080/"
        },
        "id": "1igzinaC5RKb",
        "outputId": "aabed689-28ab-4be8-bc5b-0d983144a625"
      },
      "source": [
        "post1_sample['bluecars_taken'].mean()"
      ],
      "execution_count": 273,
      "outputs": [
        {
          "output_type": "execute_result",
          "data": {
            "text/plain": [
              "828.1971830985915"
            ]
          },
          "metadata": {
            "tags": []
          },
          "execution_count": 273
        }
      ]
    },
    {
      "cell_type": "markdown",
      "metadata": {
        "id": "8nrqSSDA5Ymz"
      },
      "source": [
        "Median"
      ]
    },
    {
      "cell_type": "code",
      "metadata": {
        "colab": {
          "base_uri": "https://localhost:8080/"
        },
        "id": "jDzsKVam5axv",
        "outputId": "3c5a7297-cd8b-4ed9-8e49-329a29bac5a2"
      },
      "source": [
        "post1_sample['bluecars_taken'].median()"
      ],
      "execution_count": 274,
      "outputs": [
        {
          "output_type": "execute_result",
          "data": {
            "text/plain": [
              "810.0"
            ]
          },
          "metadata": {
            "tags": []
          },
          "execution_count": 274
        }
      ]
    },
    {
      "cell_type": "markdown",
      "metadata": {
        "id": "j3-sX-Tc5Tpu"
      },
      "source": [
        "Mode"
      ]
    },
    {
      "cell_type": "code",
      "metadata": {
        "colab": {
          "base_uri": "https://localhost:8080/"
        },
        "id": "J-rTxg3NfuNJ",
        "outputId": "aae75e6a-c700-4487-919e-ae5dc90df469"
      },
      "source": [
        "post1_sample['bluecars_taken'].mode()"
      ],
      "execution_count": 275,
      "outputs": [
        {
          "output_type": "execute_result",
          "data": {
            "text/plain": [
              "0    810\n",
              "dtype: int64"
            ]
          },
          "metadata": {
            "tags": []
          },
          "execution_count": 275
        }
      ]
    },
    {
      "cell_type": "markdown",
      "metadata": {
        "id": "PrjTXgBF4RFE"
      },
      "source": [
        "#### b. Postal code 75016"
      ]
    },
    {
      "cell_type": "markdown",
      "metadata": {
        "id": "dvqiN6FY6S7x"
      },
      "source": [
        "Mean"
      ]
    },
    {
      "cell_type": "code",
      "metadata": {
        "colab": {
          "base_uri": "https://localhost:8080/"
        },
        "id": "fPHiwDTd6eKO",
        "outputId": "c75e29b1-951e-4af7-cd3d-946bb79f3607"
      },
      "source": [
        "post2_sample['bluecars_taken'].mean()"
      ],
      "execution_count": 276,
      "outputs": [
        {
          "output_type": "execute_result",
          "data": {
            "text/plain": [
              "745.5492957746479"
            ]
          },
          "metadata": {
            "tags": []
          },
          "execution_count": 276
        }
      ]
    },
    {
      "cell_type": "markdown",
      "metadata": {
        "id": "q3f_bof86fY4"
      },
      "source": [
        "Median"
      ]
    },
    {
      "cell_type": "code",
      "metadata": {
        "colab": {
          "base_uri": "https://localhost:8080/"
        },
        "id": "dOG5JHRe6dYc",
        "outputId": "e7a7601d-d896-48d9-e6db-81bf8fa75161"
      },
      "source": [
        "post2_sample['bluecars_taken'].median()"
      ],
      "execution_count": 277,
      "outputs": [
        {
          "output_type": "execute_result",
          "data": {
            "text/plain": [
              "758.0"
            ]
          },
          "metadata": {
            "tags": []
          },
          "execution_count": 277
        }
      ]
    },
    {
      "cell_type": "markdown",
      "metadata": {
        "id": "yKMxrqv-6iPa"
      },
      "source": [
        "Mode"
      ]
    },
    {
      "cell_type": "code",
      "metadata": {
        "colab": {
          "base_uri": "https://localhost:8080/"
        },
        "id": "4Hwq4But6it4",
        "outputId": "60067265-6f82-4ae0-b2cc-bdb9edb2ea50"
      },
      "source": [
        "post2_sample['bluecars_taken'].mode()"
      ],
      "execution_count": 278,
      "outputs": [
        {
          "output_type": "execute_result",
          "data": {
            "text/plain": [
              "0    781\n",
              "1    783\n",
              "dtype: int64"
            ]
          },
          "metadata": {
            "tags": []
          },
          "execution_count": 278
        }
      ]
    },
    {
      "cell_type": "markdown",
      "metadata": {
        "id": "NsrgkNMo4ZVw"
      },
      "source": [
        "### ii. Measures of dispersion"
      ]
    },
    {
      "cell_type": "markdown",
      "metadata": {
        "id": "u0h7bg5M4mEd"
      },
      "source": [
        "#### a. Postal code 75015"
      ]
    },
    {
      "cell_type": "markdown",
      "metadata": {
        "id": "jIu7Lf9l_9t2"
      },
      "source": [
        "Variance"
      ]
    },
    {
      "cell_type": "code",
      "metadata": {
        "colab": {
          "base_uri": "https://localhost:8080/"
        },
        "id": "uVv9OJby_-Qx",
        "outputId": "4a0bcf2e-7653-44a9-ec01-625c958f5e34"
      },
      "source": [
        "post1_sample['bluecars_taken'].var()"
      ],
      "execution_count": 279,
      "outputs": [
        {
          "output_type": "execute_result",
          "data": {
            "text/plain": [
              "12032.960563380282"
            ]
          },
          "metadata": {
            "tags": []
          },
          "execution_count": 279
        }
      ]
    },
    {
      "cell_type": "markdown",
      "metadata": {
        "id": "5YE1rEdk__Ig"
      },
      "source": [
        "Standard deviation"
      ]
    },
    {
      "cell_type": "code",
      "metadata": {
        "colab": {
          "base_uri": "https://localhost:8080/"
        },
        "id": "OJA_0qFPABkk",
        "outputId": "819456bd-97eb-4378-cd78-8015eb6c1a32"
      },
      "source": [
        "post1_sample['bluecars_taken'].std()"
      ],
      "execution_count": 280,
      "outputs": [
        {
          "output_type": "execute_result",
          "data": {
            "text/plain": [
              "109.69485203682204"
            ]
          },
          "metadata": {
            "tags": []
          },
          "execution_count": 280
        }
      ]
    },
    {
      "cell_type": "markdown",
      "metadata": {
        "id": "uPHLx1efACAl"
      },
      "source": [
        "Range"
      ]
    },
    {
      "cell_type": "code",
      "metadata": {
        "colab": {
          "base_uri": "https://localhost:8080/"
        },
        "id": "YIwM9uZxACq3",
        "outputId": "164888d7-0f1b-40ca-e0d3-9925367aef14"
      },
      "source": [
        "max_taken = post1_sample['bluecars_taken'].max()\n",
        "min_taken = post1_sample['bluecars_taken'].min()\n",
        "\n",
        "max_taken - min_taken"
      ],
      "execution_count": 281,
      "outputs": [
        {
          "output_type": "execute_result",
          "data": {
            "text/plain": [
              "479"
            ]
          },
          "metadata": {
            "tags": []
          },
          "execution_count": 281
        }
      ]
    },
    {
      "cell_type": "markdown",
      "metadata": {
        "id": "fTwb2v5jADCx"
      },
      "source": [
        "Quartiles"
      ]
    },
    {
      "cell_type": "code",
      "metadata": {
        "colab": {
          "base_uri": "https://localhost:8080/"
        },
        "id": "DyOEzZfDAD0B",
        "outputId": "b313beb7-08d0-45d6-d77c-98abfe5cf816"
      },
      "source": [
        "# Calculating the quantiles \n",
        "post1_sample['bluecars_taken'].quantile([0.25,0.5,0.75])"
      ],
      "execution_count": 282,
      "outputs": [
        {
          "output_type": "execute_result",
          "data": {
            "text/plain": [
              "0.25    752.0\n",
              "0.50    810.0\n",
              "0.75    888.5\n",
              "Name: bluecars_taken, dtype: float64"
            ]
          },
          "metadata": {
            "tags": []
          },
          "execution_count": 282
        }
      ]
    },
    {
      "cell_type": "markdown",
      "metadata": {
        "id": "D-s7eehNEOhL"
      },
      "source": [
        "Interquartile range"
      ]
    },
    {
      "cell_type": "code",
      "metadata": {
        "colab": {
          "base_uri": "https://localhost:8080/"
        },
        "id": "gtxtnjR-EO3j",
        "outputId": "f7905e1d-8f68-4629-8ded-dba4a8cd74c3"
      },
      "source": [
        "# Calculating the interquatile range\n",
        "Q3 = post1_sample['bluecars_taken'].quantile(0.75)\n",
        "Q1 = post1_sample['bluecars_taken'].quantile(0.25)\n",
        "\n",
        "Q3-Q1"
      ],
      "execution_count": 283,
      "outputs": [
        {
          "output_type": "execute_result",
          "data": {
            "text/plain": [
              "136.5"
            ]
          },
          "metadata": {
            "tags": []
          },
          "execution_count": 283
        }
      ]
    },
    {
      "cell_type": "markdown",
      "metadata": {
        "id": "4cNVr1qlAggN"
      },
      "source": [
        "Skewness"
      ]
    },
    {
      "cell_type": "code",
      "metadata": {
        "colab": {
          "base_uri": "https://localhost:8080/"
        },
        "id": "prWjlDipAhdZ",
        "outputId": "62ad1214-a77b-42ef-d4b0-6c339e1fcd02"
      },
      "source": [
        "post1_sample['bluecars_taken'].skew()"
      ],
      "execution_count": 284,
      "outputs": [
        {
          "output_type": "execute_result",
          "data": {
            "text/plain": [
              "0.746649906867072"
            ]
          },
          "metadata": {
            "tags": []
          },
          "execution_count": 284
        }
      ]
    },
    {
      "cell_type": "markdown",
      "metadata": {
        "id": "61Eq_Mz-Amn8"
      },
      "source": [
        "Kurtosis"
      ]
    },
    {
      "cell_type": "code",
      "metadata": {
        "colab": {
          "base_uri": "https://localhost:8080/"
        },
        "id": "lUJ1Yz3xAnCr",
        "outputId": "33ebb954-4f7a-40f6-ca03-b34308d0b4b7"
      },
      "source": [
        "post1_sample['bluecars_taken'].kurt()"
      ],
      "execution_count": 285,
      "outputs": [
        {
          "output_type": "execute_result",
          "data": {
            "text/plain": [
              "-0.06661051341108326"
            ]
          },
          "metadata": {
            "tags": []
          },
          "execution_count": 285
        }
      ]
    },
    {
      "cell_type": "markdown",
      "metadata": {
        "id": "fscvCh224uoV"
      },
      "source": [
        "#### b. Postal code 75016"
      ]
    },
    {
      "cell_type": "markdown",
      "metadata": {
        "id": "OMudsAlfA9mm"
      },
      "source": [
        "Variance"
      ]
    },
    {
      "cell_type": "code",
      "metadata": {
        "colab": {
          "base_uri": "https://localhost:8080/"
        },
        "id": "KOQpQog2A9m9",
        "outputId": "1c9f0601-4000-4f30-af2f-869bf9c37c22"
      },
      "source": [
        "post2_sample['bluecars_taken'].var()"
      ],
      "execution_count": 286,
      "outputs": [
        {
          "output_type": "execute_result",
          "data": {
            "text/plain": [
              "6374.1082494969805"
            ]
          },
          "metadata": {
            "tags": []
          },
          "execution_count": 286
        }
      ]
    },
    {
      "cell_type": "markdown",
      "metadata": {
        "id": "ToACWb_WA9m-"
      },
      "source": [
        "Standard deviation"
      ]
    },
    {
      "cell_type": "code",
      "metadata": {
        "colab": {
          "base_uri": "https://localhost:8080/"
        },
        "id": "M9I8l8cyA9m-",
        "outputId": "11492ed2-7ca3-4e1b-d4ca-dba244191043"
      },
      "source": [
        "post2_sample['bluecars_taken'].std()"
      ],
      "execution_count": 287,
      "outputs": [
        {
          "output_type": "execute_result",
          "data": {
            "text/plain": [
              "79.83801255978871"
            ]
          },
          "metadata": {
            "tags": []
          },
          "execution_count": 287
        }
      ]
    },
    {
      "cell_type": "markdown",
      "metadata": {
        "id": "UXbk_2AXA9m-"
      },
      "source": [
        "Range"
      ]
    },
    {
      "cell_type": "code",
      "metadata": {
        "colab": {
          "base_uri": "https://localhost:8080/"
        },
        "id": "k7nwUoxWA9m_",
        "outputId": "aed043c6-fede-4cce-b93d-d5f6add64948"
      },
      "source": [
        "max_taken = post2_sample['bluecars_taken'].max()\n",
        "min_taken = post2_sample['bluecars_taken'].min()\n",
        "\n",
        "max_taken - min_taken"
      ],
      "execution_count": 288,
      "outputs": [
        {
          "output_type": "execute_result",
          "data": {
            "text/plain": [
              "381"
            ]
          },
          "metadata": {
            "tags": []
          },
          "execution_count": 288
        }
      ]
    },
    {
      "cell_type": "markdown",
      "metadata": {
        "id": "pbu3GqvgA9m_"
      },
      "source": [
        "Quartiles"
      ]
    },
    {
      "cell_type": "code",
      "metadata": {
        "colab": {
          "base_uri": "https://localhost:8080/"
        },
        "id": "NecE_V8JA9m_",
        "outputId": "26b6cdef-05a1-4020-effa-255b97124403"
      },
      "source": [
        "# Calculating the quantiles \n",
        "post2_sample['bluecars_taken'].quantile([0.25,0.5,0.75])"
      ],
      "execution_count": 289,
      "outputs": [
        {
          "output_type": "execute_result",
          "data": {
            "text/plain": [
              "0.25    689.5\n",
              "0.50    758.0\n",
              "0.75    787.5\n",
              "Name: bluecars_taken, dtype: float64"
            ]
          },
          "metadata": {
            "tags": []
          },
          "execution_count": 289
        }
      ]
    },
    {
      "cell_type": "markdown",
      "metadata": {
        "id": "AoCYPrLbFSRF"
      },
      "source": [
        "Interquartile range"
      ]
    },
    {
      "cell_type": "code",
      "metadata": {
        "colab": {
          "base_uri": "https://localhost:8080/"
        },
        "id": "_1t96G-TFV27",
        "outputId": "6111af08-558d-4c63-d85b-64b1270574ec"
      },
      "source": [
        "# Calculating the interquatile range\n",
        "Q3 = post2_sample['bluecars_taken'].quantile(0.75)\n",
        "Q1 = post2_sample['bluecars_taken'].quantile(0.25)\n",
        "\n",
        "Q3-Q1"
      ],
      "execution_count": 290,
      "outputs": [
        {
          "output_type": "execute_result",
          "data": {
            "text/plain": [
              "98.0"
            ]
          },
          "metadata": {
            "tags": []
          },
          "execution_count": 290
        }
      ]
    },
    {
      "cell_type": "markdown",
      "metadata": {
        "id": "bqG59Dm3A9m_"
      },
      "source": [
        "Skewness"
      ]
    },
    {
      "cell_type": "code",
      "metadata": {
        "colab": {
          "base_uri": "https://localhost:8080/"
        },
        "id": "I2X0mXVwA9nA",
        "outputId": "9b312f90-f216-404a-8ddd-7a0f313d2eda"
      },
      "source": [
        "post2_sample['bluecars_taken'].skew()"
      ],
      "execution_count": 291,
      "outputs": [
        {
          "output_type": "execute_result",
          "data": {
            "text/plain": [
              "-0.6497576684967693"
            ]
          },
          "metadata": {
            "tags": []
          },
          "execution_count": 291
        }
      ]
    },
    {
      "cell_type": "markdown",
      "metadata": {
        "id": "J182uAKmA9nA"
      },
      "source": [
        "Kurtosis"
      ]
    },
    {
      "cell_type": "code",
      "metadata": {
        "colab": {
          "base_uri": "https://localhost:8080/"
        },
        "id": "qyU54YykA9nA",
        "outputId": "6a5e58b6-6eea-4333-e841-800b0abb52c9"
      },
      "source": [
        "post2_sample['bluecars_taken'].kurt()"
      ],
      "execution_count": 292,
      "outputs": [
        {
          "output_type": "execute_result",
          "data": {
            "text/plain": [
              "0.42471026542689705"
            ]
          },
          "metadata": {
            "tags": []
          },
          "execution_count": 292
        }
      ]
    },
    {
      "cell_type": "markdown",
      "metadata": {
        "id": "wEJfpvPRnxej"
      },
      "source": [
        "### iii. Visualizations"
      ]
    },
    {
      "cell_type": "markdown",
      "metadata": {
        "id": "3m1G4Vj-n9x_"
      },
      "source": [
        "#### a. Postal code 75015"
      ]
    },
    {
      "cell_type": "code",
      "metadata": {
        "colab": {
          "base_uri": "https://localhost:8080/",
          "height": 356
        },
        "id": "OMWHL248npaN",
        "outputId": "e6c16e8a-d2f7-4996-8411-91aa600a6366"
      },
      "source": [
        "# Specifying the size of the graph\n",
        "fig, ax = plt.subplots(figsize=(8,5))\n",
        "\n",
        "# Ploting density plot and histogram of the number of cars taken from station with postal code 75015\n",
        "sns.histplot(post1_sample['bluecars_taken'], kde=True, stat=\"density\",color='darkblue', bins=10)\n",
        "\n",
        "# Label the graph\n",
        "plt.title('Density Plot and Histogram for the Number of Bluecars Taken from Postal Code 75015 Station', fontsize=14, y=1.015)\n",
        "\n",
        "plt.show()\n"
      ],
      "execution_count": 293,
      "outputs": [
        {
          "output_type": "display_data",
          "data": {
            "image/png": "[encoded data removed]",
            "text/plain": [
              "<Figure size 576x360 with 1 Axes>"
            ]
          },
          "metadata": {
            "tags": [],
            "needs_background": "light"
          }
        }
      ]
    },
    {
      "cell_type": "markdown",
      "metadata": {
        "id": "mI8kH4DtoDQV"
      },
      "source": [
        "#### b. Postal code 75016"
      ]
    },
    {
      "cell_type": "code",
      "metadata": {
        "colab": {
          "base_uri": "https://localhost:8080/",
          "height": 356
        },
        "id": "tdk9CjiCoLiT",
        "outputId": "54a2e052-957d-4215-b107-def37fe87666"
      },
      "source": [
        "# Specifying the size of the graph\n",
        "fig, ax = plt.subplots(figsize=(8,5))\n",
        "\n",
        "# Ploting density plot and histogram of the number of cars taken from station with postal code 75016\n",
        "sns.histplot(post2_sample['bluecars_taken'], kde=True, stat=\"density\",color='darkblue')\n",
        "\n",
        "# Label the graph\n",
        "plt.title('Density Plot and Histogram for the Number of Bluecars Taken from Postal Code 75016 Station', fontsize=14, y=1.015)\n",
        "\n",
        "plt.show()"
      ],
      "execution_count": 294,
      "outputs": [
        {
          "output_type": "display_data",
          "data": {
            "image/png": "[encoded data removed]",
            "text/plain": [
              "<Figure size 576x360 with 1 Axes>"
            ]
          },
          "metadata": {
            "tags": [],
            "needs_background": "light"
          }
        }
      ]
    },
    {
      "cell_type": "markdown",
      "metadata": {
        "id": "OnEdbb0nf9lQ"
      },
      "source": [
        "## Hypothesis Testing"
      ]
    },
    {
      "cell_type": "markdown",
      "metadata": {
        "id": "XsQZUe4ZVHPM"
      },
      "source": [
        "Since we do not know the population's standard deviation, the most appropriate hypothesis test for this study will be a t-test but before the t-test is conducted, the assumptions of the test need to be checked to see if the t-test results can be trusted.    \n",
        "\n",
        "The following are assumptions of a t-test\n",
        "1. The samples are independently and randomly drawn\n",
        "2. The distribution of the residuals between the two groups follow the normal distribution\n",
        "3. The variances between the two groups are equal, incase of unequal variances we would conduct a Welch’s t-test instead of a Student t-test  \n",
        "\n",
        "If any of these assumptions are violated then another test should be used.  \n"
      ]
    },
    {
      "cell_type": "markdown",
      "metadata": {
        "id": "ihqwWe3Zl5-Q"
      },
      "source": [
        "### Checking the equality of the variances"
      ]
    },
    {
      "cell_type": "code",
      "metadata": {
        "colab": {
          "base_uri": "https://localhost:8080/"
        },
        "id": "-vVv-rsBVCsa",
        "outputId": "ff634c8a-60ba-4de5-a83d-7f1995e81c57"
      },
      "source": [
        "## Check the equality of the variances between the two groups using Levene's test\n",
        "\n",
        "stat,p = stats.levene(post1_sample['bluecars_taken'], post2_sample['bluecars_taken'], center='mean') # we use center= mean because our samples are fairly skewed\n",
        "\n",
        "print('Statistic=%.4f, pvalue=%.4f' % (stat, p))\n",
        "\n",
        "# Interpretation of the Levene's test results\n",
        "\n",
        "alpha = 0.05\n",
        "if p <= alpha:\n",
        "\tprint('The two variances are significantly different')\n",
        "else:\n",
        "\tprint('The two variances are approximately equal')"
      ],
      "execution_count": 295,
      "outputs": [
        {
          "output_type": "stream",
          "text": [
            "Statistic=6.1124, pvalue=0.0146\n",
            "The two variances are significantly different\n"
          ],
          "name": "stdout"
        }
      ]
    },
    {
      "cell_type": "markdown",
      "metadata": {
        "id": "PKHiD47mps4D"
      },
      "source": [
        "### Checking the distribution of the residuals between the two groups"
      ]
    },
    {
      "cell_type": "code",
      "metadata": {
        "colab": {
          "base_uri": "https://localhost:8080/"
        },
        "id": "91ve252ZSBEU",
        "outputId": "2bfdd341-9ec6-4aea-a877-86a7a5e28982"
      },
      "source": [
        "# Check the distribution of the residuals between the two groups using the Shapiro-Wilk test\n",
        "from scipy.stats import shapiro\n",
        "\n",
        "diff = post1_sample['bluecars_taken'] - post2_sample['bluecars_taken']\n",
        "\n",
        "stat, p = shapiro(diff)\n",
        "\n",
        "print('Statistic=%.4f, pvalue=%.4f' % (stat, p))\n",
        "\n",
        "# Interpretation of the Shapiro-Wilk test results\n",
        "alpha = 0.05\n",
        "if p <= alpha:\n",
        "\tprint('Sample does not look Gaussian')\n",
        "else:\n",
        "\tprint('Sample looks Gaussian')"
      ],
      "execution_count": 296,
      "outputs": [
        {
          "output_type": "stream",
          "text": [
            "Statistic=nan, pvalue=1.0000\n",
            "Sample looks Gaussian\n"
          ],
          "name": "stdout"
        }
      ]
    },
    {
      "cell_type": "markdown",
      "metadata": {
        "id": "LwS4McOjCblH"
      },
      "source": [
        "Since the samples are independently and randomly drawn and the distribution of the residuals between the two groups follow the normal distribution but the variances between the two groups are unequal, we will conduct a Welch's t-test."
      ]
    },
    {
      "cell_type": "markdown",
      "metadata": {
        "id": "ffgx3S9_xa11"
      },
      "source": [
        "### Conducting the t-test"
      ]
    },
    {
      "cell_type": "code",
      "metadata": {
        "id": "XDcawo0xVuDb",
        "colab": {
          "base_uri": "https://localhost:8080/"
        },
        "outputId": "51505bd9-d033-45cc-bb26-e1e9bf1c5afa"
      },
      "source": [
        "# Conduct the independent Welch's t-test using scipy.stats, use the stats.ttest_ind() method\n",
        "stat,p = stats.ttest_ind(post1_sample['bluecars_taken'], post2_sample['bluecars_taken'], equal_var = False)\n",
        "\n",
        "print('Statistic=%.14f, pvalue=%.14f' % (stat, p))\n",
        "\n",
        "# Interpretation of the t-test results with 0.05 as the significance level\n",
        "alpha = 0.025 #since the test is two tailed\n",
        "if p <= alpha:\n",
        "\tprint('We reject the null hypothesis')\n",
        "else:\n",
        "\tprint('We fail to reject the null hypothesis')"
      ],
      "execution_count": 297,
      "outputs": [
        {
          "output_type": "stream",
          "text": [
            "Statistic=5.13296866285937, pvalue=0.00000103334413\n",
            "We reject the null hypothesis\n"
          ],
          "name": "stdout"
        }
      ]
    },
    {
      "cell_type": "markdown",
      "metadata": {
        "id": "ygAND6eSl95k"
      },
      "source": [
        "**Conclusion**  \n",
        "Based on the hypothesis test, we conclude that the difference between the average number of cars taken from station with postal code 75015 and the average number of cars taken from station with postal code 75016 is statistically significant; therefore we reject the null hypothesis for the alternative hypothesis."
      ]
    }
  ]
}